{
 "cells": [
  {
   "cell_type": "markdown",
   "id": "fa6d17b0",
   "metadata": {},
   "source": [
    "# Visualize precomputed explanations\n",
    "\n",
    "In this notebook we load explanations that were computed through `explain_all.py` and visualize some of them and do some aggregations."
   ]
  },
  {
   "cell_type": "markdown",
   "id": "a5cf6f82-c1c7-4814-ae0f-5a1c0b8578f6",
   "metadata": {},
   "source": [
    "#### 1. Imports and paths"
   ]
  },
  {
   "cell_type": "code",
   "execution_count": 1,
   "id": "34b556d8-5337-44dc-8efe-14d1dff6f011",
   "metadata": {
    "ExecuteTime": {
     "start_time": "2024-05-08T17:45:23.506120Z",
     "end_time": "2024-05-08T17:45:27.410541Z"
    }
   },
   "outputs": [],
   "source": [
    "import json\n",
    "from pathlib import Path\n",
    "\n",
    "import numpy as np\n",
    "import pandas as pd\n",
    "from dianna import visualization\n",
    "from dianna.utils.tokenizers import SpacyTokenizer\n",
    "\n",
    "from train_inlegalbert_xgboost import class_names"
   ]
  },
  {
   "cell_type": "code",
   "execution_count": 2,
   "id": "c616916c-78ef-48d0-a744-b25b37b62a3f",
   "metadata": {
    "ExecuteTime": {
     "start_time": "2024-05-08T17:45:27.409541Z",
     "end_time": "2024-05-08T17:45:27.425540Z"
    }
   },
   "outputs": [],
   "source": [
    "model_path = Path('..\\inlegal_xgboost_classifier_xgboost_classifier.json')"
   ]
  },
  {
   "cell_type": "markdown",
   "source": [
    "#### Some test data"
   ],
   "metadata": {
    "collapsed": false
   }
  },
  {
   "cell_type": "code",
   "execution_count": 3,
   "outputs": [],
   "source": [
    "constitutive_statement_0 = \"The purchase, import or transport from Syria of crude oil and petroleum products shall be prohibited.\"\n",
    "constitutive_statement_1 = \"This Decision shall enter into force on the twentieth day following that of its publication in the Official Journal of the European Union.\"\n",
    "regulatory_statement_0 = \"Where observations are submitted, or where substantial new evidence is presented, the Council shall review its decision and inform the person or entity concerned accordingly.\"\n",
    "regulatory_statement_1 = \"The relevant Member State shall inform the other Member States of any authorisation granted under this Article.\"\n",
    "regulatory_statement_2 = \"Member States shall cooperate, in accordance with their national legislation, with inspections and disposals undertaken pursuant to paragraphs 1 and 2.\""
   ],
   "metadata": {
    "collapsed": false,
    "ExecuteTime": {
     "start_time": "2024-05-08T17:45:27.422577Z",
     "end_time": "2024-05-08T17:45:27.438540Z"
    }
   }
  },
  {
   "cell_type": "markdown",
   "id": "bad4f5b1-6097-4ef3-98c4-78432ad640b0",
   "metadata": {
    "ExecuteTime": {
     "start_time": "2024-03-21T10:28:34.456937Z",
     "end_time": "2024-03-21T10:28:34.466985Z"
    }
   },
   "source": [
    "Loading the model\n",
    "\n"
   ],
   "outputs": [],
   "execution_count": 5
  },
  {
   "cell_type": "code",
   "execution_count": 4,
   "id": "555842c5-3f82-4f63-93bb-696645d4b447",
   "metadata": {
    "ExecuteTime": {
     "start_time": "2024-05-08T17:45:27.441540Z",
     "end_time": "2024-05-08T17:45:27.456540Z"
    }
   },
   "outputs": [],
   "source": [
    "from classify_text_with_inlegal_bert_xgboost import classify_texts\n",
    "\n",
    "\n",
    "class StatementClassifier:\n",
    "    def __init__(self):\n",
    "        self.tokenizer = SpacyTokenizer(name='en_core_web_sm')\n",
    "\n",
    "    def __call__(self, sentences):\n",
    "        # ensure the input has a batch axis\n",
    "        if isinstance(sentences, str):\n",
    "            sentences = [sentences]\n",
    "\n",
    "        probs = classify_texts(sentences, model_path, return_proba=True)\n",
    "\n",
    "        return np.transpose([(probs[:, 0]), (1 - probs[:, 0])])\n",
    "            "
   ]
  },
  {
   "cell_type": "code",
   "execution_count": 5,
   "id": "443e8a99-6fa3-4a73-9311-2fbe0251c2b1",
   "metadata": {
    "ExecuteTime": {
     "start_time": "2024-05-08T17:45:27.454541Z",
     "end_time": "2024-05-08T17:45:34.860066Z"
    }
   },
   "outputs": [
    {
     "name": "stdout",
     "output_type": "stream",
     "text": [
      "WARNING:tensorflow:From C:\\Users\\ChristiaanMeijer\\anaconda3\\envs\\eulaw310\\lib\\site-packages\\keras\\src\\losses.py:2976: The name tf.losses.sparse_softmax_cross_entropy is deprecated. Please use tf.compat.v1.losses.sparse_softmax_cross_entropy instead.\n",
      "\n"
     ]
    }
   ],
   "source": [
    "# define model runner. max_filter_size is a property of the model\n",
    "model_runner = StatementClassifier()"
   ]
  },
  {
   "cell_type": "markdown",
   "source": [
    "#### Test the model"
   ],
   "metadata": {
    "collapsed": false
   }
  },
  {
   "cell_type": "code",
   "execution_count": 6,
   "outputs": [
    {
     "name": "stderr",
     "output_type": "stream",
     "text": [
      "Some weights of the model checkpoint at law-ai/InLegalBERT were not used when initializing BertModel: ['cls.seq_relationship.bias', 'cls.predictions.decoder.weight', 'cls.predictions.bias', 'cls.predictions.transform.dense.bias', 'cls.predictions.transform.LayerNorm.weight', 'cls.seq_relationship.weight', 'cls.predictions.transform.dense.weight', 'cls.predictions.transform.LayerNorm.bias', 'cls.predictions.decoder.bias']\n",
      "- This IS expected if you are initializing BertModel from the checkpoint of a model trained on another task or with another architecture (e.g. initializing a BertForSequenceClassification model from a BertForPreTraining model).\n",
      "- This IS NOT expected if you are initializing BertModel from the checkpoint of a model that you expect to be exactly identical (initializing a BertForSequenceClassification model from a BertForSequenceClassification model).\n",
      "Creating features: 100%|██████████| 5/5 [00:00<00:00, 17.51it/s]\n"
     ]
    },
    {
     "name": "stdout",
     "output_type": "stream",
     "text": [
      "Loading model from ..\\inlegal_xgboost_classifier_xgboost_classifier.json.\n"
     ]
    },
    {
     "data": {
      "text/plain": "['constitutive', 'constitutive', 'regulatory', 'regulatory', 'regulatory']"
     },
     "execution_count": 6,
     "metadata": {},
     "output_type": "execute_result"
    }
   ],
   "source": [
    "prediction = model_runner([constitutive_statement_0,constitutive_statement_1, regulatory_statement_0, regulatory_statement_1,regulatory_statement_2])\n",
    "[class_names[m] for m in np.argmax(prediction, axis=1)]"
   ],
   "metadata": {
    "collapsed": false,
    "ExecuteTime": {
     "start_time": "2024-05-08T17:45:34.859067Z",
     "end_time": "2024-05-08T17:45:38.149755Z"
    }
   }
  },
  {
   "cell_type": "markdown",
   "source": [
    "#### Load precomputed data"
   ],
   "metadata": {
    "collapsed": false
   }
  },
  {
   "cell_type": "code",
   "execution_count": 7,
   "outputs": [],
   "source": [
    "p = Path('./results_1000.json')\n",
    "with open(p, 'r') as f:\n",
    "    results = json.load(f)\n",
    "\n",
    "tokenizer = SpacyTokenizer(name='en_core_web_sm')"
   ],
   "metadata": {
    "collapsed": false,
    "ExecuteTime": {
     "start_time": "2024-05-08T17:45:38.145757Z",
     "end_time": "2024-05-08T17:45:38.886371Z"
    }
   }
  },
  {
   "cell_type": "markdown",
   "source": [
    "### Investigate a single statement and its explanation"
   ],
   "metadata": {
    "collapsed": false
   }
  },
  {
   "cell_type": "code",
   "execution_count": 8,
   "outputs": [
    {
     "name": "stdout",
     "output_type": "stream",
     "text": [
      "This Decision shall apply until 13 April 2014.\n"
     ]
    },
    {
     "name": "stderr",
     "output_type": "stream",
     "text": [
      "Some weights of the model checkpoint at law-ai/InLegalBERT were not used when initializing BertModel: ['cls.seq_relationship.bias', 'cls.predictions.decoder.weight', 'cls.predictions.bias', 'cls.predictions.transform.dense.bias', 'cls.predictions.transform.LayerNorm.weight', 'cls.seq_relationship.weight', 'cls.predictions.transform.dense.weight', 'cls.predictions.transform.LayerNorm.bias', 'cls.predictions.decoder.bias']\n",
      "- This IS expected if you are initializing BertModel from the checkpoint of a model trained on another task or with another architecture (e.g. initializing a BertForSequenceClassification model from a BertForPreTraining model).\n",
      "- This IS NOT expected if you are initializing BertModel from the checkpoint of a model that you expect to be exactly identical (initializing a BertForSequenceClassification model from a BertForSequenceClassification model).\n",
      "Creating features: 100%|██████████| 1/1 [00:00<00:00, 22.16it/s]"
     ]
    },
    {
     "name": "stdout",
     "output_type": "stream",
     "text": [
      "   constitutive  regulatory\n",
      "0      0.998768    0.001232\n",
      "class label *constitutive* was predicted for this sentence\n",
      "      token    weight\n",
      "0     until  0.009208\n",
      "1      This  0.007477\n",
      "2  Decision  0.005172\n",
      "3     shall  0.003755\n",
      "4         .  0.003539\n",
      "5     April  0.003357\n",
      "6        13  0.003058\n",
      "7     apply  0.002170\n",
      "8      2014  0.001257\n"
     ]
    },
    {
     "name": "stderr",
     "output_type": "stream",
     "text": [
      "\n"
     ]
    },
    {
     "data": {
      "text/plain": "<IPython.core.display.HTML object>",
      "text/html": "<mark style=\"background-color: hsl(0, 100%, 60%, 0.8); line-height:1.75\">This</mark> <mark style=\"background-color: hsl(0, 100%, 72%, 0.8); line-height:1.75\">Decision</mark> <mark style=\"background-color: hsl(0, 100%, 80%, 0.8); line-height:1.75\">shall</mark> <mark style=\"background-color: hsl(0, 100%, 89%, 0.8); line-height:1.75\">apply</mark> <mark style=\"background-color: hsl(0, 100%, 50%, 0.8); line-height:1.75\">until</mark> <mark style=\"background-color: hsl(0, 100%, 84%, 0.8); line-height:1.75\">13</mark> <mark style=\"background-color: hsl(0, 100%, 82%, 0.8); line-height:1.75\">April</mark> <mark style=\"background-color: hsl(0, 100%, 94%, 0.8); line-height:1.75\">2014</mark> <mark style=\"background-color: hsl(0, 100%, 81%, 0.8); line-height:1.75\">.</mark>"
     },
     "metadata": {},
     "output_type": "display_data"
    }
   ],
   "source": [
    "statement_no = 0\n",
    "statement = list(results.keys())[statement_no]\n",
    "print(statement)\n",
    "prediction = model_runner([statement])[0]\n",
    "explanation_relevance = results[statement]\n",
    "print(pd.DataFrame([prediction,], columns=class_names))\n",
    "top_class = np.argmax(prediction)\n",
    "print(f'class label *{class_names[top_class]}* was predicted for this sentence')\n",
    "label_of_interest = top_class\n",
    "print(pd.DataFrame(explanation_relevance[0], columns=['token','start','weight']).drop(['start'], axis=1))\n",
    "visualization.highlight_text(explanation_relevance[label_of_interest], tokenizer.tokenize(statement))"
   ],
   "metadata": {
    "collapsed": false,
    "ExecuteTime": {
     "start_time": "2024-05-08T17:45:38.885372Z",
     "end_time": "2024-05-08T17:45:40.237430Z"
    }
   }
  },
  {
   "cell_type": "markdown",
   "source": [
    "### Explanations of a batch of statements"
   ],
   "metadata": {
    "collapsed": false
   }
  },
  {
   "cell_type": "code",
   "execution_count": 9,
   "outputs": [
    {
     "name": "stderr",
     "output_type": "stream",
     "text": [
      "Some weights of the model checkpoint at law-ai/InLegalBERT were not used when initializing BertModel: ['cls.seq_relationship.bias', 'cls.predictions.decoder.weight', 'cls.predictions.bias', 'cls.predictions.transform.dense.bias', 'cls.predictions.transform.LayerNorm.weight', 'cls.seq_relationship.weight', 'cls.predictions.transform.dense.weight', 'cls.predictions.transform.LayerNorm.bias', 'cls.predictions.decoder.bias']\n",
      "- This IS expected if you are initializing BertModel from the checkpoint of a model trained on another task or with another architecture (e.g. initializing a BertForSequenceClassification model from a BertForPreTraining model).\n",
      "- This IS NOT expected if you are initializing BertModel from the checkpoint of a model that you expect to be exactly identical (initializing a BertForSequenceClassification model from a BertForSequenceClassification model).\n",
      "Creating features: 100%|██████████| 15/15 [00:01<00:00, 12.69it/s]"
     ]
    },
    {
     "name": "stdout",
     "output_type": "stream",
     "text": [
      "Explanations for class constitutive\n"
     ]
    },
    {
     "name": "stderr",
     "output_type": "stream",
     "text": [
      "\n"
     ]
    },
    {
     "data": {
      "text/plain": "<IPython.core.display.HTML object>",
      "text/html": "<mark style=\"background-color: hsl(0, 100%, 60%, 0.8); line-height:1.75\">This</mark> <mark style=\"background-color: hsl(0, 100%, 72%, 0.8); line-height:1.75\">Decision</mark> <mark style=\"background-color: hsl(0, 100%, 80%, 0.8); line-height:1.75\">shall</mark> <mark style=\"background-color: hsl(0, 100%, 89%, 0.8); line-height:1.75\">apply</mark> <mark style=\"background-color: hsl(0, 100%, 50%, 0.8); line-height:1.75\">until</mark> <mark style=\"background-color: hsl(0, 100%, 84%, 0.8); line-height:1.75\">13</mark> <mark style=\"background-color: hsl(0, 100%, 82%, 0.8); line-height:1.75\">April</mark> <mark style=\"background-color: hsl(0, 100%, 94%, 0.8); line-height:1.75\">2014</mark> <mark style=\"background-color: hsl(0, 100%, 81%, 0.8); line-height:1.75\">.</mark>"
     },
     "metadata": {},
     "output_type": "display_data"
    },
    {
     "data": {
      "text/plain": "<IPython.core.display.HTML object>",
      "text/html": "<mark style=\"background-color: hsl(240, 100%, 68%, 0.8); line-height:1.75\">It</mark> <mark style=\"background-color: hsl(240, 100%, 50%, 0.8); line-height:1.75\">shall</mark> <mark style=\"background-color: hsl(240, 100%, 76%, 0.8); line-height:1.75\">be</mark> <mark style=\"background-color: hsl(240, 100%, 87%, 0.8); line-height:1.75\">prohibited</mark> <mark style=\"background-color: hsl(240, 100%, 88%, 0.8); line-height:1.75\">to</mark> <mark style=\"background-color: hsl(0, 100%, 76%, 0.8); line-height:1.75\">provide</mark> <mark style=\"background-color: hsl(240, 100%, 99%, 0.8); line-height:1.75\">,</mark> <mark style=\"background-color: hsl(240, 100%, 80%, 0.8); line-height:1.75\">directly</mark> <mark style=\"background-color: hsl(240, 100%, 73%, 0.8); line-height:1.75\">or</mark> <mark style=\"background-color: hsl(240, 100%, 93%, 0.8); line-height:1.75\">indirectly</mark> <mark style=\"background-color: hsl(240, 100%, 99%, 0.8); line-height:1.75\">,</mark> <mark style=\"background-color: hsl(0, 100%, 74%, 0.8); line-height:1.75\">financing</mark> <mark style=\"background-color: hsl(240, 100%, 73%, 0.8); line-height:1.75\">or</mark> <mark style=\"background-color: hsl(240, 100%, 97%, 0.8); line-height:1.75\">financial</mark> <mark style=\"background-color: hsl(240, 100%, 87%, 0.8); line-height:1.75\">assistance</mark> <mark style=\"background-color: hsl(240, 100%, 99%, 0.8); line-height:1.75\">,</mark> <mark style=\"background-color: hsl(0, 100%, 64%, 0.8); line-height:1.75\">including</mark> <mark style=\"background-color: hsl(240, 100%, 97%, 0.8); line-height:1.75\">financial</mark> <mark style=\"background-color: hsl(240, 100%, 64%, 0.8); line-height:1.75\">derivatives</mark> <mark style=\"background-color: hsl(240, 100%, 99%, 0.8); line-height:1.75\">,</mark> <mark style=\"background-color: hsl(240, 100%, 96%, 0.8); line-height:1.75\">as</mark> <mark style=\"background-color: hsl(0, 100%, 88%, 0.8); line-height:1.75\">well</mark> <mark style=\"background-color: hsl(240, 100%, 96%, 0.8); line-height:1.75\">as</mark> <mark style=\"background-color: hsl(240, 100%, 93%, 0.8); line-height:1.75\">insurance</mark> <mark style=\"background-color: hsl(240, 100%, 64%, 0.8); line-height:1.75\">and</mark> <mark style=\"background-color: hsl(0, 100%, 96%, 0.8); line-height:1.75\">reinsurance</mark> <mark style=\"background-color: hsl(240, 100%, 99%, 0.8); line-height:1.75\">,</mark> <mark style=\"background-color: hsl(240, 100%, 70%, 0.8); line-height:1.75\">related</mark> <mark style=\"background-color: hsl(240, 100%, 88%, 0.8); line-height:1.75\">to</mark> <mark style=\"background-color: hsl(240, 100%, 72%, 0.8); line-height:1.75\">the</mark> <mark style=\"background-color: hsl(0, 100%, 97%, 0.8); line-height:1.75\">prohibitions</mark> <mark style=\"background-color: hsl(240, 100%, 89%, 0.8); line-height:1.75\">referred</mark> <mark style=\"background-color: hsl(240, 100%, 88%, 0.8); line-height:1.75\">to</mark> <mark style=\"background-color: hsl(240, 100%, 89%, 0.8); line-height:1.75\">in</mark> <mark style=\"background-color: hsl(0, 100%, 97%, 0.8); line-height:1.75\">paragraph</mark> <mark style=\"background-color: hsl(240, 100%, 94%, 0.8); line-height:1.75\">1</mark> <mark style=\"background-color: hsl(240, 100%, 71%, 0.8); line-height:1.75\">.</mark>"
     },
     "metadata": {},
     "output_type": "display_data"
    },
    {
     "data": {
      "text/plain": "<IPython.core.display.HTML object>",
      "text/html": "<mark style=\"background-color: hsl(0, 100%, 79%, 0.8); line-height:1.75\">Paragraph</mark> <mark style=\"background-color: hsl(0, 100%, 72%, 0.8); line-height:1.75\">1</mark> <mark style=\"background-color: hsl(0, 100%, 50%, 0.8); line-height:1.75\">shall</mark> <mark style=\"background-color: hsl(0, 100%, 65%, 0.8); line-height:1.75\">not</mark> <mark style=\"background-color: hsl(240, 100%, 97%, 0.8); line-height:1.75\">affect</mark> <mark style=\"background-color: hsl(240, 100%, 74%, 0.8); line-height:1.75\">commitments</mark> <mark style=\"background-color: hsl(0, 100%, 75%, 0.8); line-height:1.75\">established</mark> <mark style=\"background-color: hsl(0, 100%, 70%, 0.8); line-height:1.75\">prior</mark> <mark style=\"background-color: hsl(0, 100%, 62%, 0.8); line-height:1.75\">to</mark> <mark style=\"background-color: hsl(0, 100%, 72%, 0.8); line-height:1.75\">1</mark> <mark style=\"background-color: hsl(0, 100%, 96%, 0.8); line-height:1.75\">December</mark> <mark style=\"background-color: hsl(0, 100%, 87%, 0.8); line-height:1.75\">2011</mark> <mark style=\"background-color: hsl(0, 100%, 78%, 0.8); line-height:1.75\">.</mark>"
     },
     "metadata": {},
     "output_type": "display_data"
    },
    {
     "data": {
      "text/plain": "<IPython.core.display.HTML object>",
      "text/html": "<mark style=\"background-color: hsl(0, 100%, 82%, 0.8); line-height:1.75\">Paragraph</mark> <mark style=\"background-color: hsl(0, 100%, 50%, 0.8); line-height:1.75\">1</mark> <mark style=\"background-color: hsl(0, 100%, 96%, 0.8); line-height:1.75\">shall</mark> <mark style=\"background-color: hsl(240, 100%, 100%, 0.8); line-height:1.75\">not</mark> <mark style=\"background-color: hsl(0, 100%, 81%, 0.8); line-height:1.75\">apply</mark> <mark style=\"background-color: hsl(240, 100%, 100%, 0.8); line-height:1.75\">to</mark> <mark style=\"background-color: hsl(0, 100%, 79%, 0.8); line-height:1.75\">the</mark> <mark style=\"background-color: hsl(240, 100%, 79%, 0.8); line-height:1.75\">provision</mark> <mark style=\"background-color: hsl(240, 100%, 86%, 0.8); line-height:1.75\">of</mark> <mark style=\"background-color: hsl(0, 100%, 59%, 0.8); line-height:1.75\">:</mark> <mark style=\"background-color: hsl(0, 100%, 70%, 0.8); line-height:1.75\">                         </mark> <mark style=\"background-color: hsl(240, 100%, 96%, 0.8); line-height:1.75\">(</mark> <mark style=\"background-color: hsl(0, 100%, 98%, 0.8); line-height:1.75\">a</mark> <mark style=\"background-color: hsl(240, 100%, 100%, 0.8); line-height:1.75\">)</mark> <mark style=\"background-color: hsl(240, 100%, 98%, 0.8); line-height:1.75\">                       </mark> <mark style=\"background-color: hsl(0, 100%, 98%, 0.8); line-height:1.75\">health</mark> <mark style=\"background-color: hsl(240, 100%, 100%, 0.8); line-height:1.75\">or</mark> <mark style=\"background-color: hsl(240, 100%, 95%, 0.8); line-height:1.75\">travel</mark> <mark style=\"background-color: hsl(0, 100%, 82%, 0.8); line-height:1.75\">insurance</mark> <mark style=\"background-color: hsl(240, 100%, 100%, 0.8); line-height:1.75\">to</mark> <mark style=\"background-color: hsl(0, 100%, 75%, 0.8); line-height:1.75\">natural</mark> <mark style=\"background-color: hsl(240, 100%, 100%, 0.8); line-height:1.75\">persons</mark> <mark style=\"background-color: hsl(0, 100%, 74%, 0.8); line-height:1.75\">;</mark> <mark style=\"background-color: hsl(0, 100%, 51%, 0.8); line-height:1.75\">                                 </mark> <mark style=\"background-color: hsl(240, 100%, 96%, 0.8); line-height:1.75\">(</mark> <mark style=\"background-color: hsl(0, 100%, 91%, 0.8); line-height:1.75\">b</mark> <mark style=\"background-color: hsl(240, 100%, 100%, 0.8); line-height:1.75\">)</mark> <mark style=\"background-color: hsl(240, 100%, 98%, 0.8); line-height:1.75\">                       </mark> <mark style=\"background-color: hsl(240, 100%, 84%, 0.8); line-height:1.75\">compulsory</mark> <mark style=\"background-color: hsl(240, 100%, 100%, 0.8); line-height:1.75\">or</mark> <mark style=\"background-color: hsl(0, 100%, 96%, 0.8); line-height:1.75\">third</mark> <mark style=\"background-color: hsl(240, 100%, 99%, 0.8); line-height:1.75\">party</mark> <mark style=\"background-color: hsl(0, 100%, 82%, 0.8); line-height:1.75\">insurance</mark> <mark style=\"background-color: hsl(240, 100%, 100%, 0.8); line-height:1.75\">to</mark> <mark style=\"background-color: hsl(240, 100%, 89%, 0.8); line-height:1.75\">Syrian</mark> <mark style=\"background-color: hsl(240, 100%, 100%, 0.8); line-height:1.75\">persons</mark> <mark style=\"background-color: hsl(0, 100%, 100%, 0.8); line-height:1.75\">,</mark> <mark style=\"background-color: hsl(240, 100%, 98%, 0.8); line-height:1.75\">entities</mark> <mark style=\"background-color: hsl(240, 100%, 100%, 0.8); line-height:1.75\">or</mark> <mark style=\"background-color: hsl(240, 100%, 91%, 0.8); line-height:1.75\">bodies</mark> <mark style=\"background-color: hsl(0, 100%, 86%, 0.8); line-height:1.75\">based</mark> <mark style=\"background-color: hsl(0, 100%, 78%, 0.8); line-height:1.75\">in</mark> <mark style=\"background-color: hsl(0, 100%, 79%, 0.8); line-height:1.75\">the</mark> <mark style=\"background-color: hsl(240, 100%, 81%, 0.8); line-height:1.75\">Union</mark> <mark style=\"background-color: hsl(0, 100%, 74%, 0.8); line-height:1.75\">;</mark> <mark style=\"background-color: hsl(0, 100%, 51%, 0.8); line-height:1.75\">                                 </mark> <mark style=\"background-color: hsl(240, 100%, 96%, 0.8); line-height:1.75\">(</mark> <mark style=\"background-color: hsl(0, 100%, 99%, 0.8); line-height:1.75\">c</mark> <mark style=\"background-color: hsl(240, 100%, 100%, 0.8); line-height:1.75\">)</mark> <mark style=\"background-color: hsl(240, 100%, 98%, 0.8); line-height:1.75\">                       </mark> <mark style=\"background-color: hsl(0, 100%, 82%, 0.8); line-height:1.75\">insurance</mark> <mark style=\"background-color: hsl(240, 100%, 100%, 0.8); line-height:1.75\">or</mark> <mark style=\"background-color: hsl(240, 100%, 73%, 0.8); line-height:1.75\">re</mark> <mark style=\"background-color: hsl(0, 100%, 99%, 0.8); line-height:1.75\">-</mark> <mark style=\"background-color: hsl(0, 100%, 82%, 0.8); line-height:1.75\">insurance</mark> <mark style=\"background-color: hsl(240, 100%, 100%, 0.8); line-height:1.75\">to</mark> <mark style=\"background-color: hsl(0, 100%, 79%, 0.8); line-height:1.75\">the</mark> <mark style=\"background-color: hsl(240, 100%, 95%, 0.8); line-height:1.75\">owner</mark> <mark style=\"background-color: hsl(240, 100%, 86%, 0.8); line-height:1.75\">of</mark> <mark style=\"background-color: hsl(0, 100%, 98%, 0.8); line-height:1.75\">a</mark> <mark style=\"background-color: hsl(0, 100%, 73%, 0.8); line-height:1.75\">vessel</mark> <mark style=\"background-color: hsl(0, 100%, 100%, 0.8); line-height:1.75\">,</mark> <mark style=\"background-color: hsl(240, 100%, 97%, 0.8); line-height:1.75\">aircraft</mark> <mark style=\"background-color: hsl(240, 100%, 100%, 0.8); line-height:1.75\">or</mark> <mark style=\"background-color: hsl(0, 100%, 86%, 0.8); line-height:1.75\">vehicle</mark> <mark style=\"background-color: hsl(0, 100%, 77%, 0.8); line-height:1.75\">chartered</mark> <mark style=\"background-color: hsl(0, 100%, 82%, 0.8); line-height:1.75\">by</mark> <mark style=\"background-color: hsl(0, 100%, 98%, 0.8); line-height:1.75\">a</mark> <mark style=\"background-color: hsl(240, 100%, 89%, 0.8); line-height:1.75\">Syrian</mark> <mark style=\"background-color: hsl(240, 100%, 95%, 0.8); line-height:1.75\">person</mark> <mark style=\"background-color: hsl(0, 100%, 100%, 0.8); line-height:1.75\">,</mark> <mark style=\"background-color: hsl(0, 100%, 99%, 0.8); line-height:1.75\">entity</mark> <mark style=\"background-color: hsl(240, 100%, 100%, 0.8); line-height:1.75\">or</mark> <mark style=\"background-color: hsl(0, 100%, 86%, 0.8); line-height:1.75\">body</mark> <mark style=\"background-color: hsl(0, 100%, 98%, 0.8); line-height:1.75\">and</mark> <mark style=\"background-color: hsl(240, 100%, 76%, 0.8); line-height:1.75\">which</mark> <mark style=\"background-color: hsl(240, 100%, 95%, 0.8); line-height:1.75\">person</mark> <mark style=\"background-color: hsl(0, 100%, 100%, 0.8); line-height:1.75\">,</mark> <mark style=\"background-color: hsl(0, 100%, 99%, 0.8); line-height:1.75\">entity</mark> <mark style=\"background-color: hsl(240, 100%, 100%, 0.8); line-height:1.75\">or</mark> <mark style=\"background-color: hsl(0, 100%, 86%, 0.8); line-height:1.75\">body</mark> <mark style=\"background-color: hsl(240, 100%, 91%, 0.8); line-height:1.75\">is</mark> <mark style=\"background-color: hsl(240, 100%, 100%, 0.8); line-height:1.75\">not</mark> <mark style=\"background-color: hsl(240, 100%, 96%, 0.8); line-height:1.75\">listed</mark> <mark style=\"background-color: hsl(0, 100%, 78%, 0.8); line-height:1.75\">in</mark> <mark style=\"background-color: hsl(0, 100%, 93%, 0.8); line-height:1.75\">Annex</mark> <mark style=\"background-color: hsl(0, 100%, 91%, 0.8); line-height:1.75\">I</mark> <mark style=\"background-color: hsl(240, 100%, 100%, 0.8); line-height:1.75\">or</mark> <mark style=\"background-color: hsl(0, 100%, 71%, 0.8); line-height:1.75\">II</mark> <mark style=\"background-color: hsl(240, 100%, 87%, 0.8); line-height:1.75\">.</mark>"
     },
     "metadata": {},
     "output_type": "display_data"
    },
    {
     "data": {
      "text/plain": "<IPython.core.display.HTML object>",
      "text/html": "<mark style=\"background-color: hsl(0, 100%, 96%, 0.8); line-height:1.75\">The</mark> <mark style=\"background-color: hsl(0, 100%, 87%, 0.8); line-height:1.75\">prohibition</mark> <mark style=\"background-color: hsl(0, 100%, 83%, 0.8); line-height:1.75\">in</mark> <mark style=\"background-color: hsl(0, 100%, 50%, 0.8); line-height:1.75\">paragraphs</mark> <mark style=\"background-color: hsl(0, 100%, 88%, 0.8); line-height:1.75\">1</mark> <mark style=\"background-color: hsl(0, 100%, 92%, 0.8); line-height:1.75\">and</mark> <mark style=\"background-color: hsl(0, 100%, 88%, 0.8); line-height:1.75\">2</mark> <mark style=\"background-color: hsl(0, 100%, 75%, 0.8); line-height:1.75\">shall</mark> <mark style=\"background-color: hsl(0, 100%, 68%, 0.8); line-height:1.75\">be</mark> <mark style=\"background-color: hsl(0, 100%, 81%, 0.8); line-height:1.75\">without</mark> <mark style=\"background-color: hsl(240, 100%, 98%, 0.8); line-height:1.75\">prejudice</mark> <mark style=\"background-color: hsl(0, 100%, 62%, 0.8); line-height:1.75\">to</mark> <mark style=\"background-color: hsl(240, 100%, 88%, 0.8); line-height:1.75\">the</mark> <mark style=\"background-color: hsl(0, 100%, 71%, 0.8); line-height:1.75\">execution</mark> <mark style=\"background-color: hsl(0, 100%, 85%, 0.8); line-height:1.75\">of</mark> <mark style=\"background-color: hsl(0, 100%, 79%, 0.8); line-height:1.75\">an</mark> <mark style=\"background-color: hsl(0, 100%, 72%, 0.8); line-height:1.75\">obligation</mark> <mark style=\"background-color: hsl(0, 100%, 78%, 0.8); line-height:1.75\">arising</mark> <mark style=\"background-color: hsl(0, 100%, 86%, 0.8); line-height:1.75\">from</mark> <mark style=\"background-color: hsl(0, 100%, 77%, 0.8); line-height:1.75\">contracts</mark> <mark style=\"background-color: hsl(240, 100%, 96%, 0.8); line-height:1.75\">or</mark> <mark style=\"background-color: hsl(0, 100%, 80%, 0.8); line-height:1.75\">agreements</mark> <mark style=\"background-color: hsl(0, 100%, 64%, 0.8); line-height:1.75\">concluded</mark> <mark style=\"background-color: hsl(0, 100%, 88%, 0.8); line-height:1.75\">before</mark> <mark style=\"background-color: hsl(0, 100%, 88%, 0.8); line-height:1.75\">1</mark> <mark style=\"background-color: hsl(240, 100%, 100%, 0.8); line-height:1.75\">December</mark> <mark style=\"background-color: hsl(0, 100%, 81%, 0.8); line-height:1.75\">2011</mark> <mark style=\"background-color: hsl(0, 100%, 94%, 0.8); line-height:1.75\">.</mark>"
     },
     "metadata": {},
     "output_type": "display_data"
    },
    {
     "data": {
      "text/plain": "<IPython.core.display.HTML object>",
      "text/html": "<mark style=\"background-color: hsl(0, 100%, 78%, 0.8); line-height:1.75\">The</mark> <mark style=\"background-color: hsl(0, 100%, 75%, 0.8); line-height:1.75\">prohibitions</mark> <mark style=\"background-color: hsl(240, 100%, 95%, 0.8); line-height:1.75\">set</mark> <mark style=\"background-color: hsl(0, 100%, 88%, 0.8); line-height:1.75\">out</mark> <mark style=\"background-color: hsl(0, 100%, 71%, 0.8); line-height:1.75\">in</mark> <mark style=\"background-color: hsl(0, 100%, 84%, 0.8); line-height:1.75\">points</mark> <mark style=\"background-color: hsl(0, 100%, 78%, 0.8); line-height:1.75\">(</mark> <mark style=\"background-color: hsl(0, 100%, 97%, 0.8); line-height:1.75\">a</mark> <mark style=\"background-color: hsl(0, 100%, 99%, 0.8); line-height:1.75\">)</mark> <mark style=\"background-color: hsl(0, 100%, 69%, 0.8); line-height:1.75\">and</mark> <mark style=\"background-color: hsl(0, 100%, 78%, 0.8); line-height:1.75\">(</mark> <mark style=\"background-color: hsl(0, 100%, 89%, 0.8); line-height:1.75\">c</mark> <mark style=\"background-color: hsl(0, 100%, 99%, 0.8); line-height:1.75\">)</mark> <mark style=\"background-color: hsl(240, 100%, 88%, 0.8); line-height:1.75\">of</mark> <mark style=\"background-color: hsl(0, 100%, 94%, 0.8); line-height:1.75\">Article</mark> <mark style=\"background-color: hsl(0, 100%, 84%, 0.8); line-height:1.75\">14</mark> <mark style=\"background-color: hsl(0, 100%, 86%, 0.8); line-height:1.75\">:</mark> <mark style=\"background-color: hsl(240, 100%, 85%, 0.8); line-height:1.75\">                         </mark> <mark style=\"background-color: hsl(0, 100%, 78%, 0.8); line-height:1.75\">(</mark> <mark style=\"background-color: hsl(0, 100%, 97%, 0.8); line-height:1.75\">i</mark> <mark style=\"background-color: hsl(0, 100%, 99%, 0.8); line-height:1.75\">)</mark> <mark style=\"background-color: hsl(0, 100%, 92%, 0.8); line-height:1.75\">                       </mark> <mark style=\"background-color: hsl(0, 100%, 81%, 0.8); line-height:1.75\">shall</mark> <mark style=\"background-color: hsl(0, 100%, 95%, 0.8); line-height:1.75\">be</mark> <mark style=\"background-color: hsl(240, 100%, 86%, 0.8); line-height:1.75\">without</mark> <mark style=\"background-color: hsl(240, 100%, 94%, 0.8); line-height:1.75\">prejudice</mark> <mark style=\"background-color: hsl(0, 100%, 95%, 0.8); line-height:1.75\">to</mark> <mark style=\"background-color: hsl(240, 100%, 98%, 0.8); line-height:1.75\">the</mark> <mark style=\"background-color: hsl(240, 100%, 99%, 0.8); line-height:1.75\">execution</mark> <mark style=\"background-color: hsl(240, 100%, 88%, 0.8); line-height:1.75\">of</mark> <mark style=\"background-color: hsl(240, 100%, 98%, 0.8); line-height:1.75\">an</mark> <mark style=\"background-color: hsl(0, 100%, 97%, 0.8); line-height:1.75\">obligation</mark> <mark style=\"background-color: hsl(0, 100%, 76%, 0.8); line-height:1.75\">arising</mark> <mark style=\"background-color: hsl(0, 100%, 70%, 0.8); line-height:1.75\">from</mark> <mark style=\"background-color: hsl(240, 100%, 95%, 0.8); line-height:1.75\">contracts</mark> <mark style=\"background-color: hsl(240, 100%, 97%, 0.8); line-height:1.75\">or</mark> <mark style=\"background-color: hsl(0, 100%, 98%, 0.8); line-height:1.75\">agreements</mark> <mark style=\"background-color: hsl(0, 100%, 98%, 0.8); line-height:1.75\">concluded</mark> <mark style=\"background-color: hsl(240, 100%, 89%, 0.8); line-height:1.75\">before</mark> <mark style=\"background-color: hsl(0, 100%, 93%, 0.8); line-height:1.75\">23</mark> <mark style=\"background-color: hsl(240, 100%, 100%, 0.8); line-height:1.75\">September</mark> <mark style=\"background-color: hsl(240, 100%, 73%, 0.8); line-height:1.75\">2011</mark> <mark style=\"background-color: hsl(0, 100%, 64%, 0.8); line-height:1.75\">;</mark> <mark style=\"background-color: hsl(0, 100%, 83%, 0.8); line-height:1.75\">                                 </mark> <mark style=\"background-color: hsl(0, 100%, 78%, 0.8); line-height:1.75\">(</mark> <mark style=\"background-color: hsl(0, 100%, 83%, 0.8); line-height:1.75\">ii</mark> <mark style=\"background-color: hsl(0, 100%, 99%, 0.8); line-height:1.75\">)</mark> <mark style=\"background-color: hsl(0, 100%, 92%, 0.8); line-height:1.75\">                       </mark> <mark style=\"background-color: hsl(0, 100%, 81%, 0.8); line-height:1.75\">shall</mark> <mark style=\"background-color: hsl(0, 100%, 75%, 0.8); line-height:1.75\">not</mark> <mark style=\"background-color: hsl(0, 100%, 80%, 0.8); line-height:1.75\">prevent</mark> <mark style=\"background-color: hsl(240, 100%, 98%, 0.8); line-height:1.75\">the</mark> <mark style=\"background-color: hsl(0, 100%, 88%, 0.8); line-height:1.75\">extension</mark> <mark style=\"background-color: hsl(240, 100%, 88%, 0.8); line-height:1.75\">of</mark> <mark style=\"background-color: hsl(0, 100%, 97%, 0.8); line-height:1.75\">a</mark> <mark style=\"background-color: hsl(0, 100%, 50%, 0.8); line-height:1.75\">participation</mark> <mark style=\"background-color: hsl(240, 100%, 100%, 0.8); line-height:1.75\">,</mark> <mark style=\"background-color: hsl(0, 100%, 86%, 0.8); line-height:1.75\">if</mark> <mark style=\"background-color: hsl(0, 100%, 82%, 0.8); line-height:1.75\">such</mark> <mark style=\"background-color: hsl(0, 100%, 88%, 0.8); line-height:1.75\">extension</mark> <mark style=\"background-color: hsl(240, 100%, 100%, 0.8); line-height:1.75\">is</mark> <mark style=\"background-color: hsl(240, 100%, 98%, 0.8); line-height:1.75\">an</mark> <mark style=\"background-color: hsl(0, 100%, 97%, 0.8); line-height:1.75\">obligation</mark> <mark style=\"background-color: hsl(0, 100%, 93%, 0.8); line-height:1.75\">under</mark> <mark style=\"background-color: hsl(240, 100%, 98%, 0.8); line-height:1.75\">an</mark> <mark style=\"background-color: hsl(0, 100%, 87%, 0.8); line-height:1.75\">agreement</mark> <mark style=\"background-color: hsl(0, 100%, 98%, 0.8); line-height:1.75\">concluded</mark> <mark style=\"background-color: hsl(240, 100%, 89%, 0.8); line-height:1.75\">before</mark> <mark style=\"background-color: hsl(0, 100%, 93%, 0.8); line-height:1.75\">23</mark> <mark style=\"background-color: hsl(240, 100%, 100%, 0.8); line-height:1.75\">September</mark> <mark style=\"background-color: hsl(240, 100%, 73%, 0.8); line-height:1.75\">2011</mark> <mark style=\"background-color: hsl(240, 100%, 91%, 0.8); line-height:1.75\">.</mark>"
     },
     "metadata": {},
     "output_type": "display_data"
    },
    {
     "data": {
      "text/plain": "<IPython.core.display.HTML object>",
      "text/html": "<mark style=\"background-color: hsl(0, 100%, 96%, 0.8); line-height:1.75\">The</mark> <mark style=\"background-color: hsl(0, 100%, 50%, 0.8); line-height:1.75\">purchase</mark> <mark style=\"background-color: hsl(240, 100%, 53%, 0.8); line-height:1.75\">,</mark> <mark style=\"background-color: hsl(0, 100%, 96%, 0.8); line-height:1.75\">import</mark> <mark style=\"background-color: hsl(240, 100%, 85%, 0.8); line-height:1.75\">or</mark> <mark style=\"background-color: hsl(240, 100%, 53%, 0.8); line-height:1.75\">transport</mark> <mark style=\"background-color: hsl(0, 100%, 62%, 0.8); line-height:1.75\">from</mark> <mark style=\"background-color: hsl(240, 100%, 88%, 0.8); line-height:1.75\">Syria</mark> <mark style=\"background-color: hsl(240, 100%, 93%, 0.8); line-height:1.75\">of</mark> <mark style=\"background-color: hsl(240, 100%, 98%, 0.8); line-height:1.75\">crude</mark> <mark style=\"background-color: hsl(240, 100%, 91%, 0.8); line-height:1.75\">oil</mark> <mark style=\"background-color: hsl(0, 100%, 80%, 0.8); line-height:1.75\">and</mark> <mark style=\"background-color: hsl(0, 100%, 98%, 0.8); line-height:1.75\">petroleum</mark> <mark style=\"background-color: hsl(240, 100%, 90%, 0.8); line-height:1.75\">products</mark> <mark style=\"background-color: hsl(0, 100%, 98%, 0.8); line-height:1.75\">shall</mark> <mark style=\"background-color: hsl(0, 100%, 64%, 0.8); line-height:1.75\">be</mark> <mark style=\"background-color: hsl(0, 100%, 97%, 0.8); line-height:1.75\">prohibited</mark> <mark style=\"background-color: hsl(240, 100%, 87%, 0.8); line-height:1.75\">.</mark>"
     },
     "metadata": {},
     "output_type": "display_data"
    },
    {
     "data": {
      "text/plain": "<IPython.core.display.HTML object>",
      "text/html": "<mark style=\"background-color: hsl(240, 100%, 69%, 0.8); line-height:1.75\">The</mark> <mark style=\"background-color: hsl(0, 100%, 92%, 0.8); line-height:1.75\">purchase</mark> <mark style=\"background-color: hsl(240, 100%, 82%, 0.8); line-height:1.75\">,</mark> <mark style=\"background-color: hsl(0, 100%, 53%, 0.8); line-height:1.75\">import</mark> <mark style=\"background-color: hsl(240, 100%, 86%, 0.8); line-height:1.75\">or</mark> <mark style=\"background-color: hsl(0, 100%, 90%, 0.8); line-height:1.75\">transport</mark> <mark style=\"background-color: hsl(0, 100%, 76%, 0.8); line-height:1.75\">of</mark> <mark style=\"background-color: hsl(240, 100%, 91%, 0.8); line-height:1.75\">arms</mark> <mark style=\"background-color: hsl(0, 100%, 86%, 0.8); line-height:1.75\">and</mark> <mark style=\"background-color: hsl(240, 100%, 89%, 0.8); line-height:1.75\">related</mark> <mark style=\"background-color: hsl(240, 100%, 79%, 0.8); line-height:1.75\">material</mark> <mark style=\"background-color: hsl(0, 100%, 76%, 0.8); line-height:1.75\">of</mark> <mark style=\"background-color: hsl(240, 100%, 77%, 0.8); line-height:1.75\">all</mark> <mark style=\"background-color: hsl(0, 100%, 99%, 0.8); line-height:1.75\">types</mark> <mark style=\"background-color: hsl(240, 100%, 82%, 0.8); line-height:1.75\">,</mark> <mark style=\"background-color: hsl(240, 100%, 86%, 0.8); line-height:1.75\">including</mark> <mark style=\"background-color: hsl(0, 100%, 53%, 0.8); line-height:1.75\">weapons</mark> <mark style=\"background-color: hsl(0, 100%, 86%, 0.8); line-height:1.75\">and</mark> <mark style=\"background-color: hsl(0, 100%, 92%, 0.8); line-height:1.75\">ammunition</mark> <mark style=\"background-color: hsl(240, 100%, 82%, 0.8); line-height:1.75\">,</mark> <mark style=\"background-color: hsl(240, 100%, 78%, 0.8); line-height:1.75\">military</mark> <mark style=\"background-color: hsl(240, 100%, 96%, 0.8); line-height:1.75\">vehicles</mark> <mark style=\"background-color: hsl(0, 100%, 86%, 0.8); line-height:1.75\">and</mark> <mark style=\"background-color: hsl(0, 100%, 85%, 0.8); line-height:1.75\">equipment</mark> <mark style=\"background-color: hsl(240, 100%, 82%, 0.8); line-height:1.75\">,</mark> <mark style=\"background-color: hsl(240, 100%, 50%, 0.8); line-height:1.75\">paramilitary</mark> <mark style=\"background-color: hsl(0, 100%, 85%, 0.8); line-height:1.75\">equipment</mark> <mark style=\"background-color: hsl(0, 100%, 86%, 0.8); line-height:1.75\">and</mark> <mark style=\"background-color: hsl(240, 100%, 95%, 0.8); line-height:1.75\">spare</mark> <mark style=\"background-color: hsl(240, 100%, 58%, 0.8); line-height:1.75\">parts</mark> <mark style=\"background-color: hsl(240, 100%, 90%, 0.8); line-height:1.75\">for</mark> <mark style=\"background-color: hsl(240, 100%, 70%, 0.8); line-height:1.75\">the</mark> <mark style=\"background-color: hsl(240, 100%, 100%, 0.8); line-height:1.75\">aforementioned</mark> <mark style=\"background-color: hsl(240, 100%, 82%, 0.8); line-height:1.75\">,</mark> <mark style=\"background-color: hsl(240, 100%, 85%, 0.8); line-height:1.75\">from</mark> <mark style=\"background-color: hsl(240, 100%, 73%, 0.8); line-height:1.75\">Syria</mark> <mark style=\"background-color: hsl(240, 100%, 86%, 0.8); line-height:1.75\">or</mark> <mark style=\"background-color: hsl(0, 100%, 66%, 0.8); line-height:1.75\">originating</mark> <mark style=\"background-color: hsl(240, 100%, 95%, 0.8); line-height:1.75\">in</mark> <mark style=\"background-color: hsl(240, 100%, 73%, 0.8); line-height:1.75\">Syria</mark> <mark style=\"background-color: hsl(240, 100%, 82%, 0.8); line-height:1.75\">,</mark> <mark style=\"background-color: hsl(0, 100%, 97%, 0.8); line-height:1.75\">shall</mark> <mark style=\"background-color: hsl(240, 100%, 68%, 0.8); line-height:1.75\">be</mark> <mark style=\"background-color: hsl(0, 100%, 96%, 0.8); line-height:1.75\">prohibited</mark> <mark style=\"background-color: hsl(0, 100%, 63%, 0.8); line-height:1.75\">.</mark>"
     },
     "metadata": {},
     "output_type": "display_data"
    },
    {
     "data": {
      "text/plain": "<IPython.core.display.HTML object>",
      "text/html": "<mark style=\"background-color: hsl(0, 100%, 50%, 0.8); line-height:1.75\">This</mark> <mark style=\"background-color: hsl(240, 100%, 74%, 0.8); line-height:1.75\">Decision</mark> <mark style=\"background-color: hsl(0, 100%, 97%, 0.8); line-height:1.75\">shall</mark> <mark style=\"background-color: hsl(240, 100%, 100%, 0.8); line-height:1.75\">enter</mark> <mark style=\"background-color: hsl(0, 100%, 68%, 0.8); line-height:1.75\">into</mark> <mark style=\"background-color: hsl(0, 100%, 80%, 0.8); line-height:1.75\">force</mark> <mark style=\"background-color: hsl(0, 100%, 64%, 0.8); line-height:1.75\">on</mark> <mark style=\"background-color: hsl(0, 100%, 92%, 0.8); line-height:1.75\">the</mark> <mark style=\"background-color: hsl(0, 100%, 82%, 0.8); line-height:1.75\">date</mark> <mark style=\"background-color: hsl(0, 100%, 93%, 0.8); line-height:1.75\">of</mark> <mark style=\"background-color: hsl(0, 100%, 88%, 0.8); line-height:1.75\">its</mark> <mark style=\"background-color: hsl(240, 100%, 84%, 0.8); line-height:1.75\">publication</mark> <mark style=\"background-color: hsl(0, 100%, 89%, 0.8); line-height:1.75\">in</mark> <mark style=\"background-color: hsl(0, 100%, 92%, 0.8); line-height:1.75\">the</mark> <mark style=\"background-color: hsl(0, 100%, 88%, 0.8); line-height:1.75\">            </mark> <mark style=\"background-color: hsl(0, 100%, 100%, 0.8); line-height:1.75\">Official</mark> <mark style=\"background-color: hsl(240, 100%, 97%, 0.8); line-height:1.75\">Journal</mark> <mark style=\"background-color: hsl(0, 100%, 93%, 0.8); line-height:1.75\">of</mark> <mark style=\"background-color: hsl(0, 100%, 92%, 0.8); line-height:1.75\">the</mark> <mark style=\"background-color: hsl(0, 100%, 86%, 0.8); line-height:1.75\">European</mark> <mark style=\"background-color: hsl(240, 100%, 95%, 0.8); line-height:1.75\">Union</mark> <mark style=\"background-color: hsl(0, 100%, 73%, 0.8); line-height:1.75\">           </mark> <mark style=\"background-color: hsl(240, 100%, 99%, 0.8); line-height:1.75\">.</mark>"
     },
     "metadata": {},
     "output_type": "display_data"
    },
    {
     "data": {
      "text/plain": "<IPython.core.display.HTML object>",
      "text/html": "<mark style=\"background-color: hsl(240, 100%, 77%, 0.8); line-height:1.75\">Information</mark> <mark style=\"background-color: hsl(240, 100%, 94%, 0.8); line-height:1.75\">referred</mark> <mark style=\"background-color: hsl(0, 100%, 99%, 0.8); line-height:1.75\">to</mark> <mark style=\"background-color: hsl(240, 100%, 82%, 0.8); line-height:1.75\">in</mark> <mark style=\"background-color: hsl(0, 100%, 83%, 0.8); line-height:1.75\">paragraph</mark> <mark style=\"background-color: hsl(240, 100%, 98%, 0.8); line-height:1.75\">1</mark> <mark style=\"background-color: hsl(0, 100%, 97%, 0.8); line-height:1.75\">shall</mark> <mark style=\"background-color: hsl(0, 100%, 94%, 0.8); line-height:1.75\">be</mark> <mark style=\"background-color: hsl(240, 100%, 83%, 0.8); line-height:1.75\">communicated</mark> <mark style=\"background-color: hsl(0, 100%, 50%, 0.8); line-height:1.75\">for</mark> <mark style=\"background-color: hsl(240, 100%, 84%, 0.8); line-height:1.75\">each</mark> <mark style=\"background-color: hsl(0, 100%, 93%, 0.8); line-height:1.75\">control</mark> <mark style=\"background-color: hsl(0, 100%, 99%, 0.8); line-height:1.75\">and/or</mark> <mark style=\"background-color: hsl(240, 100%, 61%, 0.8); line-height:1.75\">inspection</mark> <mark style=\"background-color: hsl(240, 100%, 97%, 0.8); line-height:1.75\">and</mark> <mark style=\"background-color: hsl(0, 100%, 97%, 0.8); line-height:1.75\">shall</mark> <mark style=\"background-color: hsl(240, 100%, 78%, 0.8); line-height:1.75\">continue</mark> <mark style=\"background-color: hsl(0, 100%, 99%, 0.8); line-height:1.75\">to</mark> <mark style=\"background-color: hsl(0, 100%, 94%, 0.8); line-height:1.75\">be</mark> <mark style=\"background-color: hsl(240, 100%, 88%, 0.8); line-height:1.75\">listed</mark> <mark style=\"background-color: hsl(240, 100%, 97%, 0.8); line-height:1.75\">and</mark> <mark style=\"background-color: hsl(240, 100%, 96%, 0.8); line-height:1.75\">updated</mark> <mark style=\"background-color: hsl(240, 100%, 82%, 0.8); line-height:1.75\">in</mark> <mark style=\"background-color: hsl(240, 100%, 84%, 0.8); line-height:1.75\">each</mark> <mark style=\"background-color: hsl(240, 100%, 87%, 0.8); line-height:1.75\">report</mark> <mark style=\"background-color: hsl(0, 100%, 98%, 0.8); line-height:1.75\">until</mark> <mark style=\"background-color: hsl(0, 100%, 100%, 0.8); line-height:1.75\">the</mark> <mark style=\"background-color: hsl(240, 100%, 79%, 0.8); line-height:1.75\">action</mark> <mark style=\"background-color: hsl(240, 100%, 66%, 0.8); line-height:1.75\">is</mark> <mark style=\"background-color: hsl(240, 100%, 74%, 0.8); line-height:1.75\">concluded</mark> <mark style=\"background-color: hsl(240, 100%, 81%, 0.8); line-height:1.75\">under</mark> <mark style=\"background-color: hsl(0, 100%, 100%, 0.8); line-height:1.75\">the</mark> <mark style=\"background-color: hsl(240, 100%, 97%, 0.8); line-height:1.75\">laws</mark> <mark style=\"background-color: hsl(240, 100%, 93%, 0.8); line-height:1.75\">of</mark> <mark style=\"background-color: hsl(0, 100%, 100%, 0.8); line-height:1.75\">the</mark> <mark style=\"background-color: hsl(240, 100%, 75%, 0.8); line-height:1.75\">Member</mark> <mark style=\"background-color: hsl(0, 100%, 95%, 0.8); line-height:1.75\">State</mark> <mark style=\"background-color: hsl(240, 100%, 75%, 0.8); line-height:1.75\">concerned</mark> <mark style=\"background-color: hsl(240, 100%, 68%, 0.8); line-height:1.75\">.</mark>"
     },
     "metadata": {},
     "output_type": "display_data"
    },
    {
     "name": "stdout",
     "output_type": "stream",
     "text": [
      "Explanations for class regulatory\n"
     ]
    },
    {
     "data": {
      "text/plain": "<IPython.core.display.HTML object>",
      "text/html": "<mark style=\"background-color: hsl(240, 100%, 80%, 0.8); line-height:1.75\">Financial</mark> <mark style=\"background-color: hsl(0, 100%, 76%, 0.8); line-height:1.75\">institutions</mark> <mark style=\"background-color: hsl(0, 100%, 92%, 0.8); line-height:1.75\">within</mark> <mark style=\"background-color: hsl(240, 100%, 93%, 0.8); line-height:1.75\">the</mark> <mark style=\"background-color: hsl(0, 100%, 67%, 0.8); line-height:1.75\">territories</mark> <mark style=\"background-color: hsl(0, 100%, 98%, 0.8); line-height:1.75\">of</mark> <mark style=\"background-color: hsl(240, 100%, 93%, 0.8); line-height:1.75\">the</mark> <mark style=\"background-color: hsl(0, 100%, 97%, 0.8); line-height:1.75\">Member</mark> <mark style=\"background-color: hsl(0, 100%, 59%, 0.8); line-height:1.75\">States</mark> <mark style=\"background-color: hsl(0, 100%, 88%, 0.8); line-height:1.75\">or</mark> <mark style=\"background-color: hsl(0, 100%, 68%, 0.8); line-height:1.75\">under</mark> <mark style=\"background-color: hsl(0, 100%, 97%, 0.8); line-height:1.75\">their</mark> <mark style=\"background-color: hsl(0, 100%, 80%, 0.8); line-height:1.75\">jurisdiction</mark> <mark style=\"background-color: hsl(0, 100%, 89%, 0.8); line-height:1.75\">shall</mark> <mark style=\"background-color: hsl(0, 100%, 97%, 0.8); line-height:1.75\">be</mark> <mark style=\"background-color: hsl(0, 100%, 76%, 0.8); line-height:1.75\">prohibited</mark> <mark style=\"background-color: hsl(0, 100%, 95%, 0.8); line-height:1.75\">from</mark> <mark style=\"background-color: hsl(0, 100%, 97%, 0.8); line-height:1.75\">opening</mark> <mark style=\"background-color: hsl(240, 100%, 100%, 0.8); line-height:1.75\">representative</mark> <mark style=\"background-color: hsl(0, 100%, 87%, 0.8); line-height:1.75\">offices</mark> <mark style=\"background-color: hsl(0, 100%, 59%, 0.8); line-height:1.75\">,</mark> <mark style=\"background-color: hsl(0, 100%, 63%, 0.8); line-height:1.75\">subsidiaries</mark> <mark style=\"background-color: hsl(0, 100%, 88%, 0.8); line-height:1.75\">or</mark> <mark style=\"background-color: hsl(240, 100%, 93%, 0.8); line-height:1.75\">banking</mark> <mark style=\"background-color: hsl(0, 100%, 91%, 0.8); line-height:1.75\">accounts</mark> <mark style=\"background-color: hsl(0, 100%, 53%, 0.8); line-height:1.75\">in</mark> <mark style=\"background-color: hsl(0, 100%, 62%, 0.8); line-height:1.75\">Syria</mark> <mark style=\"background-color: hsl(0, 100%, 50%, 0.8); line-height:1.75\">.</mark>"
     },
     "metadata": {},
     "output_type": "display_data"
    },
    {
     "data": {
      "text/plain": "<IPython.core.display.HTML object>",
      "text/html": "<mark style=\"background-color: hsl(0, 100%, 71%, 0.8); line-height:1.75\">The</mark> <mark style=\"background-color: hsl(0, 100%, 89%, 0.8); line-height:1.75\">sale</mark> <mark style=\"background-color: hsl(240, 100%, 96%, 0.8); line-height:1.75\">,</mark> <mark style=\"background-color: hsl(240, 100%, 85%, 0.8); line-height:1.75\">supply</mark> <mark style=\"background-color: hsl(240, 100%, 96%, 0.8); line-height:1.75\">,</mark> <mark style=\"background-color: hsl(0, 100%, 82%, 0.8); line-height:1.75\">transfer</mark> <mark style=\"background-color: hsl(0, 100%, 98%, 0.8); line-height:1.75\">or</mark> <mark style=\"background-color: hsl(0, 100%, 100%, 0.8); line-height:1.75\">export</mark> <mark style=\"background-color: hsl(240, 100%, 86%, 0.8); line-height:1.75\">of</mark> <mark style=\"background-color: hsl(240, 100%, 85%, 0.8); line-height:1.75\">certain</mark> <mark style=\"background-color: hsl(0, 100%, 65%, 0.8); line-height:1.75\">equipment</mark> <mark style=\"background-color: hsl(240, 100%, 96%, 0.8); line-height:1.75\">,</mark> <mark style=\"background-color: hsl(240, 100%, 88%, 0.8); line-height:1.75\">goods</mark> <mark style=\"background-color: hsl(240, 100%, 97%, 0.8); line-height:1.75\">and</mark> <mark style=\"background-color: hsl(0, 100%, 97%, 0.8); line-height:1.75\">technology</mark> <mark style=\"background-color: hsl(0, 100%, 100%, 0.8); line-height:1.75\">which</mark> <mark style=\"background-color: hsl(240, 100%, 95%, 0.8); line-height:1.75\">might</mark> <mark style=\"background-color: hsl(0, 100%, 70%, 0.8); line-height:1.75\">be</mark> <mark style=\"background-color: hsl(0, 100%, 87%, 0.8); line-height:1.75\">used</mark> <mark style=\"background-color: hsl(240, 100%, 97%, 0.8); line-height:1.75\">for</mark> <mark style=\"background-color: hsl(0, 100%, 90%, 0.8); line-height:1.75\">internal</mark> <mark style=\"background-color: hsl(0, 100%, 97%, 0.8); line-height:1.75\">repression</mark> <mark style=\"background-color: hsl(0, 100%, 98%, 0.8); line-height:1.75\">or</mark> <mark style=\"background-color: hsl(240, 100%, 97%, 0.8); line-height:1.75\">for</mark> <mark style=\"background-color: hsl(0, 100%, 90%, 0.8); line-height:1.75\">the</mark> <mark style=\"background-color: hsl(240, 100%, 98%, 0.8); line-height:1.75\">manufacture</mark> <mark style=\"background-color: hsl(240, 100%, 97%, 0.8); line-height:1.75\">and</mark> <mark style=\"background-color: hsl(0, 100%, 50%, 0.8); line-height:1.75\">maintenance</mark> <mark style=\"background-color: hsl(240, 100%, 86%, 0.8); line-height:1.75\">of</mark> <mark style=\"background-color: hsl(0, 100%, 65%, 0.8); line-height:1.75\">products</mark> <mark style=\"background-color: hsl(0, 100%, 100%, 0.8); line-height:1.75\">which</mark> <mark style=\"background-color: hsl(240, 100%, 77%, 0.8); line-height:1.75\">could</mark> <mark style=\"background-color: hsl(0, 100%, 70%, 0.8); line-height:1.75\">be</mark> <mark style=\"background-color: hsl(0, 100%, 87%, 0.8); line-height:1.75\">used</mark> <mark style=\"background-color: hsl(240, 100%, 97%, 0.8); line-height:1.75\">for</mark> <mark style=\"background-color: hsl(0, 100%, 90%, 0.8); line-height:1.75\">internal</mark> <mark style=\"background-color: hsl(0, 100%, 97%, 0.8); line-height:1.75\">repression</mark> <mark style=\"background-color: hsl(240, 100%, 96%, 0.8); line-height:1.75\">,</mark> <mark style=\"background-color: hsl(240, 100%, 98%, 0.8); line-height:1.75\">to</mark> <mark style=\"background-color: hsl(0, 100%, 73%, 0.8); line-height:1.75\">Syria</mark> <mark style=\"background-color: hsl(240, 100%, 84%, 0.8); line-height:1.75\">by</mark> <mark style=\"background-color: hsl(0, 100%, 88%, 0.8); line-height:1.75\">nationals</mark> <mark style=\"background-color: hsl(240, 100%, 86%, 0.8); line-height:1.75\">of</mark> <mark style=\"background-color: hsl(0, 100%, 91%, 0.8); line-height:1.75\">Member</mark> <mark style=\"background-color: hsl(0, 100%, 95%, 0.8); line-height:1.75\">States</mark> <mark style=\"background-color: hsl(0, 100%, 98%, 0.8); line-height:1.75\">or</mark> <mark style=\"background-color: hsl(240, 100%, 93%, 0.8); line-height:1.75\">from</mark> <mark style=\"background-color: hsl(0, 100%, 90%, 0.8); line-height:1.75\">the</mark> <mark style=\"background-color: hsl(0, 100%, 87%, 0.8); line-height:1.75\">territories</mark> <mark style=\"background-color: hsl(240, 100%, 86%, 0.8); line-height:1.75\">of</mark> <mark style=\"background-color: hsl(0, 100%, 91%, 0.8); line-height:1.75\">Member</mark> <mark style=\"background-color: hsl(0, 100%, 95%, 0.8); line-height:1.75\">States</mark> <mark style=\"background-color: hsl(0, 100%, 98%, 0.8); line-height:1.75\">or</mark> <mark style=\"background-color: hsl(240, 100%, 99%, 0.8); line-height:1.75\">using</mark> <mark style=\"background-color: hsl(0, 100%, 84%, 0.8); line-height:1.75\">their</mark> <mark style=\"background-color: hsl(0, 100%, 86%, 0.8); line-height:1.75\">flag</mark> <mark style=\"background-color: hsl(0, 100%, 90%, 0.8); line-height:1.75\">vessels</mark> <mark style=\"background-color: hsl(0, 100%, 98%, 0.8); line-height:1.75\">or</mark> <mark style=\"background-color: hsl(0, 100%, 99%, 0.8); line-height:1.75\">aircraft</mark> <mark style=\"background-color: hsl(240, 100%, 96%, 0.8); line-height:1.75\">,</mark> <mark style=\"background-color: hsl(0, 100%, 93%, 0.8); line-height:1.75\">shall</mark> <mark style=\"background-color: hsl(0, 100%, 70%, 0.8); line-height:1.75\">be</mark> <mark style=\"background-color: hsl(240, 100%, 95%, 0.8); line-height:1.75\">prohibited</mark> <mark style=\"background-color: hsl(240, 100%, 96%, 0.8); line-height:1.75\">,</mark> <mark style=\"background-color: hsl(0, 100%, 100%, 0.8); line-height:1.75\">whether</mark> <mark style=\"background-color: hsl(240, 100%, 84%, 0.8); line-height:1.75\">originating</mark> <mark style=\"background-color: hsl(0, 100%, 98%, 0.8); line-height:1.75\">or</mark> <mark style=\"background-color: hsl(0, 100%, 81%, 0.8); line-height:1.75\">not</mark> <mark style=\"background-color: hsl(0, 100%, 92%, 0.8); line-height:1.75\">in</mark> <mark style=\"background-color: hsl(0, 100%, 84%, 0.8); line-height:1.75\">their</mark> <mark style=\"background-color: hsl(0, 100%, 87%, 0.8); line-height:1.75\">territories</mark> <mark style=\"background-color: hsl(0, 100%, 99%, 0.8); line-height:1.75\">.</mark>"
     },
     "metadata": {},
     "output_type": "display_data"
    },
    {
     "data": {
      "text/plain": "<IPython.core.display.HTML object>",
      "text/html": "<mark style=\"background-color: hsl(240, 100%, 79%, 0.8); line-height:1.75\">Where</mark> <mark style=\"background-color: hsl(0, 100%, 91%, 0.8); line-height:1.75\">,</mark> <mark style=\"background-color: hsl(0, 100%, 77%, 0.8); line-height:1.75\">pursuant</mark> <mark style=\"background-color: hsl(0, 100%, 98%, 0.8); line-height:1.75\">to</mark> <mark style=\"background-color: hsl(240, 100%, 89%, 0.8); line-height:1.75\">paragraphs</mark> <mark style=\"background-color: hsl(0, 100%, 89%, 0.8); line-height:1.75\">3</mark> <mark style=\"background-color: hsl(0, 100%, 98%, 0.8); line-height:1.75\">to</mark> <mark style=\"background-color: hsl(0, 100%, 51%, 0.8); line-height:1.75\">7</mark> <mark style=\"background-color: hsl(0, 100%, 91%, 0.8); line-height:1.75\">,</mark> <mark style=\"background-color: hsl(240, 100%, 93%, 0.8); line-height:1.75\">a</mark> <mark style=\"background-color: hsl(0, 100%, 73%, 0.8); line-height:1.75\">Member</mark> <mark style=\"background-color: hsl(0, 100%, 66%, 0.8); line-height:1.75\">State</mark> <mark style=\"background-color: hsl(0, 100%, 70%, 0.8); line-height:1.75\">authorises</mark> <mark style=\"background-color: hsl(0, 100%, 89%, 0.8); line-height:1.75\">the</mark> <mark style=\"background-color: hsl(0, 100%, 89%, 0.8); line-height:1.75\">entry</mark> <mark style=\"background-color: hsl(0, 100%, 71%, 0.8); line-height:1.75\">into</mark> <mark style=\"background-color: hsl(0, 100%, 91%, 0.8); line-height:1.75\">,</mark> <mark style=\"background-color: hsl(0, 100%, 74%, 0.8); line-height:1.75\">or</mark> <mark style=\"background-color: hsl(0, 100%, 89%, 0.8); line-height:1.75\">transit</mark> <mark style=\"background-color: hsl(0, 100%, 97%, 0.8); line-height:1.75\">through</mark> <mark style=\"background-color: hsl(0, 100%, 91%, 0.8); line-height:1.75\">,</mark> <mark style=\"background-color: hsl(0, 100%, 75%, 0.8); line-height:1.75\">its</mark> <mark style=\"background-color: hsl(240, 100%, 100%, 0.8); line-height:1.75\">territory</mark> <mark style=\"background-color: hsl(0, 100%, 78%, 0.8); line-height:1.75\">of</mark> <mark style=\"background-color: hsl(0, 100%, 82%, 0.8); line-height:1.75\">persons</mark> <mark style=\"background-color: hsl(240, 100%, 84%, 0.8); line-height:1.75\">listed</mark> <mark style=\"background-color: hsl(0, 100%, 50%, 0.8); line-height:1.75\">in</mark> <mark style=\"background-color: hsl(0, 100%, 89%, 0.8); line-height:1.75\">Annex</mark> <mark style=\"background-color: hsl(0, 100%, 74%, 0.8); line-height:1.75\">I</mark> <mark style=\"background-color: hsl(0, 100%, 91%, 0.8); line-height:1.75\">,</mark> <mark style=\"background-color: hsl(0, 100%, 89%, 0.8); line-height:1.75\">the</mark> <mark style=\"background-color: hsl(240, 100%, 100%, 0.8); line-height:1.75\">authorisation</mark> <mark style=\"background-color: hsl(0, 100%, 53%, 0.8); line-height:1.75\">shall</mark> <mark style=\"background-color: hsl(0, 100%, 74%, 0.8); line-height:1.75\">be</mark> <mark style=\"background-color: hsl(240, 100%, 95%, 0.8); line-height:1.75\">limited</mark> <mark style=\"background-color: hsl(0, 100%, 98%, 0.8); line-height:1.75\">to</mark> <mark style=\"background-color: hsl(0, 100%, 89%, 0.8); line-height:1.75\">the</mark> <mark style=\"background-color: hsl(0, 100%, 81%, 0.8); line-height:1.75\">purpose</mark> <mark style=\"background-color: hsl(0, 100%, 87%, 0.8); line-height:1.75\">for</mark> <mark style=\"background-color: hsl(0, 100%, 97%, 0.8); line-height:1.75\">which</mark> <mark style=\"background-color: hsl(0, 100%, 91%, 0.8); line-height:1.75\">it</mark> <mark style=\"background-color: hsl(0, 100%, 63%, 0.8); line-height:1.75\">is</mark> <mark style=\"background-color: hsl(0, 100%, 96%, 0.8); line-height:1.75\">given</mark> <mark style=\"background-color: hsl(0, 100%, 62%, 0.8); line-height:1.75\">and</mark> <mark style=\"background-color: hsl(0, 100%, 98%, 0.8); line-height:1.75\">to</mark> <mark style=\"background-color: hsl(0, 100%, 89%, 0.8); line-height:1.75\">the</mark> <mark style=\"background-color: hsl(0, 100%, 56%, 0.8); line-height:1.75\">person</mark> <mark style=\"background-color: hsl(0, 100%, 88%, 0.8); line-height:1.75\">concerned</mark> <mark style=\"background-color: hsl(0, 100%, 60%, 0.8); line-height:1.75\">therewith</mark> <mark style=\"background-color: hsl(0, 100%, 97%, 0.8); line-height:1.75\">.</mark>"
     },
     "metadata": {},
     "output_type": "display_data"
    },
    {
     "data": {
      "text/plain": "<IPython.core.display.HTML object>",
      "text/html": "<mark style=\"background-color: hsl(240, 100%, 94%, 0.8); line-height:1.75\">All</mark> <mark style=\"background-color: hsl(240, 100%, 81%, 0.8); line-height:1.75\">target</mark> <mark style=\"background-color: hsl(0, 100%, 88%, 0.8); line-height:1.75\">benchmarks</mark> <mark style=\"background-color: hsl(240, 100%, 90%, 0.8); line-height:1.75\">shall</mark> <mark style=\"background-color: hsl(240, 100%, 94%, 0.8); line-height:1.75\">be</mark> <mark style=\"background-color: hsl(0, 100%, 94%, 0.8); line-height:1.75\">assessed</mark> <mark style=\"background-color: hsl(240, 100%, 99%, 0.8); line-height:1.75\">annually</mark> <mark style=\"background-color: hsl(0, 100%, 62%, 0.8); line-height:1.75\">on</mark> <mark style=\"background-color: hsl(0, 100%, 70%, 0.8); line-height:1.75\">the</mark> <mark style=\"background-color: hsl(0, 100%, 84%, 0.8); line-height:1.75\">basis</mark> <mark style=\"background-color: hsl(0, 100%, 97%, 0.8); line-height:1.75\">of</mark> <mark style=\"background-color: hsl(0, 100%, 70%, 0.8); line-height:1.75\">the</mark> <mark style=\"background-color: hsl(240, 100%, 100%, 0.8); line-height:1.75\">evaluation</mark> <mark style=\"background-color: hsl(0, 100%, 88%, 0.8); line-height:1.75\">reports</mark> <mark style=\"background-color: hsl(0, 100%, 87%, 0.8); line-height:1.75\">referred</mark> <mark style=\"background-color: hsl(240, 100%, 88%, 0.8); line-height:1.75\">to</mark> <mark style=\"background-color: hsl(240, 100%, 95%, 0.8); line-height:1.75\">in</mark> <mark style=\"background-color: hsl(0, 100%, 76%, 0.8); line-height:1.75\">Article</mark> <mark style=\"background-color: hsl(0, 100%, 98%, 0.8); line-height:1.75\">13(1</mark> <mark style=\"background-color: hsl(0, 100%, 85%, 0.8); line-height:1.75\">)</mark> <mark style=\"background-color: hsl(0, 100%, 88%, 0.8); line-height:1.75\">and</mark> <mark style=\"background-color: hsl(0, 100%, 95%, 0.8); line-height:1.75\">,</mark> <mark style=\"background-color: hsl(0, 100%, 50%, 0.8); line-height:1.75\">where</mark> <mark style=\"background-color: hsl(0, 100%, 66%, 0.8); line-height:1.75\">appropriate</mark> <mark style=\"background-color: hsl(0, 100%, 95%, 0.8); line-height:1.75\">,</mark> <mark style=\"background-color: hsl(240, 100%, 94%, 0.8); line-height:1.75\">be</mark> <mark style=\"background-color: hsl(0, 100%, 67%, 0.8); line-height:1.75\">revised</mark> <mark style=\"background-color: hsl(0, 100%, 92%, 0.8); line-height:1.75\">accordingly</mark> <mark style=\"background-color: hsl(240, 100%, 95%, 0.8); line-height:1.75\">in</mark> <mark style=\"background-color: hsl(0, 100%, 70%, 0.8); line-height:1.75\">the</mark> <mark style=\"background-color: hsl(0, 100%, 78%, 0.8); line-height:1.75\">framework</mark> <mark style=\"background-color: hsl(0, 100%, 97%, 0.8); line-height:1.75\">of</mark> <mark style=\"background-color: hsl(0, 100%, 70%, 0.8); line-height:1.75\">the</mark> <mark style=\"background-color: hsl(240, 100%, 100%, 0.8); line-height:1.75\">evaluation</mark> <mark style=\"background-color: hsl(0, 100%, 87%, 0.8); line-height:1.75\">referred</mark> <mark style=\"background-color: hsl(240, 100%, 88%, 0.8); line-height:1.75\">to</mark> <mark style=\"background-color: hsl(240, 100%, 95%, 0.8); line-height:1.75\">in</mark> <mark style=\"background-color: hsl(0, 100%, 76%, 0.8); line-height:1.75\">Article</mark> <mark style=\"background-color: hsl(0, 100%, 86%, 0.8); line-height:1.75\">13(4</mark> <mark style=\"background-color: hsl(0, 100%, 85%, 0.8); line-height:1.75\">)</mark> <mark style=\"background-color: hsl(0, 100%, 81%, 0.8); line-height:1.75\">.</mark>"
     },
     "metadata": {},
     "output_type": "display_data"
    },
    {
     "data": {
      "text/plain": "<IPython.core.display.HTML object>",
      "text/html": "<mark style=\"background-color: hsl(0, 100%, 82%, 0.8); line-height:1.75\">The</mark> <mark style=\"background-color: hsl(0, 100%, 82%, 0.8); line-height:1.75\">risk</mark> <mark style=\"background-color: hsl(0, 100%, 98%, 0.8); line-height:1.75\">assessment</mark> <mark style=\"background-color: hsl(0, 100%, 84%, 0.8); line-height:1.75\">by</mark> <mark style=\"background-color: hsl(0, 100%, 79%, 0.8); line-height:1.75\">each</mark> <mark style=\"background-color: hsl(0, 100%, 97%, 0.8); line-height:1.75\">Member</mark> <mark style=\"background-color: hsl(0, 100%, 65%, 0.8); line-height:1.75\">State</mark> <mark style=\"background-color: hsl(0, 100%, 73%, 0.8); line-height:1.75\">shall</mark> <mark style=\"background-color: hsl(0, 100%, 56%, 0.8); line-height:1.75\">consider</mark> <mark style=\"background-color: hsl(0, 100%, 95%, 0.8); line-height:1.75\">,</mark> <mark style=\"background-color: hsl(0, 100%, 88%, 0.8); line-height:1.75\">on</mark> <mark style=\"background-color: hsl(0, 100%, 73%, 0.8); line-height:1.75\">the</mark> <mark style=\"background-color: hsl(0, 100%, 88%, 0.8); line-height:1.75\">basis</mark> <mark style=\"background-color: hsl(0, 100%, 96%, 0.8); line-height:1.75\">of</mark> <mark style=\"background-color: hsl(0, 100%, 87%, 0.8); line-height:1.75\">past</mark> <mark style=\"background-color: hsl(0, 100%, 100%, 0.8); line-height:1.75\">experience</mark> <mark style=\"background-color: hsl(0, 100%, 99%, 0.8); line-height:1.75\">and</mark> <mark style=\"background-color: hsl(0, 100%, 99%, 0.8); line-height:1.75\">using</mark> <mark style=\"background-color: hsl(240, 100%, 98%, 0.8); line-height:1.75\">all</mark> <mark style=\"background-color: hsl(240, 100%, 97%, 0.8); line-height:1.75\">available</mark> <mark style=\"background-color: hsl(0, 100%, 99%, 0.8); line-height:1.75\">and</mark> <mark style=\"background-color: hsl(0, 100%, 93%, 0.8); line-height:1.75\">relevant</mark> <mark style=\"background-color: hsl(240, 100%, 92%, 0.8); line-height:1.75\">information</mark> <mark style=\"background-color: hsl(0, 100%, 95%, 0.8); line-height:1.75\">,</mark> <mark style=\"background-color: hsl(0, 100%, 72%, 0.8); line-height:1.75\">how</mark> <mark style=\"background-color: hsl(0, 100%, 98%, 0.8); line-height:1.75\">likely</mark> <mark style=\"background-color: hsl(0, 100%, 70%, 0.8); line-height:1.75\">a</mark> <mark style=\"background-color: hsl(0, 100%, 80%, 0.8); line-height:1.75\">non</mark> <mark style=\"background-color: hsl(0, 100%, 88%, 0.8); line-height:1.75\">-</mark> <mark style=\"background-color: hsl(0, 100%, 88%, 0.8); line-height:1.75\">compliance</mark> <mark style=\"background-color: hsl(0, 100%, 91%, 0.8); line-height:1.75\">is</mark> <mark style=\"background-color: hsl(0, 100%, 93%, 0.8); line-height:1.75\">to</mark> <mark style=\"background-color: hsl(0, 100%, 68%, 0.8); line-height:1.75\">happen</mark> <mark style=\"background-color: hsl(0, 100%, 99%, 0.8); line-height:1.75\">and</mark> <mark style=\"background-color: hsl(0, 100%, 95%, 0.8); line-height:1.75\">,</mark> <mark style=\"background-color: hsl(0, 100%, 80%, 0.8); line-height:1.75\">if</mark> <mark style=\"background-color: hsl(0, 100%, 81%, 0.8); line-height:1.75\">it</mark> <mark style=\"background-color: hsl(0, 100%, 75%, 0.8); line-height:1.75\">were</mark> <mark style=\"background-color: hsl(0, 100%, 93%, 0.8); line-height:1.75\">to</mark> <mark style=\"background-color: hsl(0, 100%, 68%, 0.8); line-height:1.75\">happen</mark> <mark style=\"background-color: hsl(0, 100%, 95%, 0.8); line-height:1.75\">,</mark> <mark style=\"background-color: hsl(0, 100%, 73%, 0.8); line-height:1.75\">the</mark> <mark style=\"background-color: hsl(240, 100%, 93%, 0.8); line-height:1.75\">potential</mark> <mark style=\"background-color: hsl(0, 100%, 90%, 0.8); line-height:1.75\">consequence(s</mark> <mark style=\"background-color: hsl(0, 100%, 50%, 0.8); line-height:1.75\">)</mark> <mark style=\"background-color: hsl(0, 100%, 95%, 0.8); line-height:1.75\">.</mark>"
     },
     "metadata": {},
     "output_type": "display_data"
    }
   ],
   "source": [
    "statements = list(results.keys())[:15]\n",
    "predictions = model_runner(statements)\n",
    "\n",
    "for label_of_interest in range(len(class_names)):\n",
    "    print(f'Explanations for class {class_names[label_of_interest]}')\n",
    "    for statement, prediction in zip(statements, predictions):\n",
    "        if np.argmax(prediction) == label_of_interest:\n",
    "            visualization.highlight_text(results[statement][label_of_interest], tokenizer.tokenize(statement))"
   ],
   "metadata": {
    "collapsed": false,
    "ExecuteTime": {
     "start_time": "2024-05-08T17:45:40.208430Z",
     "end_time": "2024-05-08T17:45:42.361951Z"
    }
   }
  },
  {
   "cell_type": "markdown",
   "source": [
    "### Aggregated results"
   ],
   "metadata": {
    "collapsed": false
   }
  },
  {
   "cell_type": "code",
   "execution_count": 10,
   "outputs": [
    {
     "data": {
      "text/plain": "               weight\ntoken                \n             0.000606\n             0.002207\n             0.000330\n             0.002904\n             0.000334\n...               ...\n‘            0.000274\n’           -0.001473\n’s           0.003515\n“            0.004281\n”           -0.002479\n\n[3383 rows x 1 columns]",
      "text/html": "<div>\n<style scoped>\n    .dataframe tbody tr th:only-of-type {\n        vertical-align: middle;\n    }\n\n    .dataframe tbody tr th {\n        vertical-align: top;\n    }\n\n    .dataframe thead th {\n        text-align: right;\n    }\n</style>\n<table border=\"1\" class=\"dataframe\">\n  <thead>\n    <tr style=\"text-align: right;\">\n      <th></th>\n      <th>weight</th>\n    </tr>\n    <tr>\n      <th>token</th>\n      <th></th>\n    </tr>\n  </thead>\n  <tbody>\n    <tr>\n      <th></th>\n      <td>0.000606</td>\n    </tr>\n    <tr>\n      <th></th>\n      <td>0.002207</td>\n    </tr>\n    <tr>\n      <th></th>\n      <td>0.000330</td>\n    </tr>\n    <tr>\n      <th></th>\n      <td>0.002904</td>\n    </tr>\n    <tr>\n      <th></th>\n      <td>0.000334</td>\n    </tr>\n    <tr>\n      <th>...</th>\n      <td>...</td>\n    </tr>\n    <tr>\n      <th>‘</th>\n      <td>0.000274</td>\n    </tr>\n    <tr>\n      <th>’</th>\n      <td>-0.001473</td>\n    </tr>\n    <tr>\n      <th>’s</th>\n      <td>0.003515</td>\n    </tr>\n    <tr>\n      <th>“</th>\n      <td>0.004281</td>\n    </tr>\n    <tr>\n      <th>”</th>\n      <td>-0.002479</td>\n    </tr>\n  </tbody>\n</table>\n<p>3383 rows × 1 columns</p>\n</div>"
     },
     "execution_count": 10,
     "metadata": {},
     "output_type": "execute_result"
    }
   ],
   "source": [
    "label_of_interest = 0\n",
    "statement_infos = [statement_info[label_of_interest] for _statement, statement_info in results.items()]\n",
    "token_infos = pd.DataFrame([    x    for xs in statement_infos    for x in xs], columns=['token', 'start', 'weight']).drop('start', axis=1)\n",
    "\n",
    "token_infos.groupby('token').mean()\n",
    "\n",
    "\n",
    "\n",
    "\n"
   ],
   "metadata": {
    "collapsed": false,
    "ExecuteTime": {
     "start_time": "2024-05-08T17:45:42.338951Z",
     "end_time": "2024-05-08T17:45:42.425259Z"
    }
   }
  }
 ],
 "metadata": {
  "kernelspec": {
   "display_name": "Python 3 (ipykernel)",
   "language": "python",
   "name": "python3"
  },
  "language_info": {
   "codemirror_mode": {
    "name": "ipython",
    "version": 3
   },
   "file_extension": ".py",
   "mimetype": "text/x-python",
   "name": "python",
   "nbconvert_exporter": "python",
   "pygments_lexer": "ipython3",
   "version": "3.10.13"
  }
 },
 "nbformat": 4,
 "nbformat_minor": 5
}
