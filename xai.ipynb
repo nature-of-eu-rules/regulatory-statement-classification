{
 "cells": [
  {
   "cell_type": "markdown",
   "id": "african-verse",
   "metadata": {},
   "source": [
    "<img width=\"150\" alt=\"Logo_ER10\" src=\"https://user-images.githubusercontent.com/3244249/151994514-b584b984-a148-4ade-80ee-0f88b0aefa45.png\">\n",
    "\n",
    "### Interpreting the sentence classification model with LIME\n",
    "\n",
    "LIME (Local Interpretable Model-agnostic Explanations) is an explainable-AI method that aims to create an interpretable model that locally represents the classifier. For more details see the [LIME paper](https://arxiv.org/abs/1602.04938).\n",
    "\n",
    "Note that this notebook was adapted from the [LIME/text tutorial for DIANNA](https://github.com/dianna-ai/dianna/blob/main/tutorials/lime_text.ipynb)."
   ]
  },
  {
   "cell_type": "markdown",
   "id": "fa6d17b0",
   "metadata": {},
   "source": [
    "#### Colab Setup"
   ]
  },
  {
   "cell_type": "code",
   "execution_count": 1,
   "id": "471630ff",
   "metadata": {
    "ExecuteTime": {
     "start_time": "2024-03-21T10:57:47.924542Z",
     "end_time": "2024-03-21T10:57:51.771689Z"
    }
   },
   "outputs": [],
   "source": [
    "import pandas as pd\n",
    "\n",
    "from classify_text_with_inlegal_bert_xgboost import classify_texts\n",
    "\n",
    "running_in_colab = 'google.colab' in str(get_ipython())\n",
    "if running_in_colab:\n",
    "  # install dianna\n",
    "  !python3 -m pip install dianna[notebooks]\n",
    "  \n",
    "  # download data used in this demo\n",
    "  import os \n",
    "  base_url = 'https://raw.githubusercontent.com/dianna-ai/dianna/main/tutorials/'\n",
    "  paths_to_download = ['data/movie_reviews_word_vectors.txt', 'models/movie_review_model.onnx']\n",
    "  for path in paths_to_download:\n",
    "      !wget {base_url + path} -P {os.path.dirname(path)}"
   ]
  },
  {
   "cell_type": "markdown",
   "id": "a5cf6f82-c1c7-4814-ae0f-5a1c0b8578f6",
   "metadata": {},
   "source": [
    "#### 1. Imports and paths"
   ]
  },
  {
   "cell_type": "code",
   "execution_count": 34,
   "id": "34b556d8-5337-44dc-8efe-14d1dff6f011",
   "metadata": {
    "ExecuteTime": {
     "start_time": "2024-03-21T11:18:04.332429Z",
     "end_time": "2024-03-21T11:18:04.339355Z"
    }
   },
   "outputs": [],
   "source": [
    "import os\n",
    "import matplotlib.pyplot as plt\n",
    "import pandas as pd\n",
    "import numpy as np\n",
    "import spacy\n",
    "from torchtext.vocab import Vectors\n",
    "from scipy.special import expit as sigmoid\n",
    "from pathlib import Path\n",
    "\n",
    "import dianna\n",
    "from dianna import visualization\n",
    "from dianna import utils\n",
    "from dianna.utils.tokenizers import SpacyTokenizer\n",
    "from train_inlegalbert_xgboost import class_names"
   ]
  },
  {
   "cell_type": "code",
   "execution_count": 3,
   "id": "c616916c-78ef-48d0-a744-b25b37b62a3f",
   "metadata": {
    "ExecuteTime": {
     "start_time": "2024-03-21T10:57:59.607043Z",
     "end_time": "2024-03-21T10:57:59.621499Z"
    }
   },
   "outputs": [],
   "source": [
    "model_path = Path('..\\inlegal_xgboost_classifier_xgboost_classifier.json')"
   ]
  },
  {
   "cell_type": "markdown",
   "source": [
    "#### Some test data"
   ],
   "metadata": {
    "collapsed": false
   }
  },
  {
   "cell_type": "code",
   "execution_count": 28,
   "outputs": [],
   "source": [
    "constitutive_statement_0 = \"The purchase, import or transport from Syria of crude oil and petroleum products shall be prohibited.\"\n",
    "constitutive_statement_1 = \"This Decision shall enter into force on the twentieth day following that of its publication in the Official Journal of the European Union.\"\n",
    "regulatory_statement_0 = \"Where observations are submitted, or where substantial new evidence is presented, the Council shall review its decision and inform the person or entity concerned accordingly.\"\n",
    "regulatory_statement_1 = \"The relevant Member State shall inform the other Member States of any authorisation granted under this Article.\"\n",
    "regulatory_statement_2 = \"Member States shall cooperate, in accordance with their national legislation, with inspections and disposals undertaken pursuant to paragraphs 1 and 2.\""
   ],
   "metadata": {
    "collapsed": false
   }
  },
  {
   "cell_type": "markdown",
   "id": "bad4f5b1-6097-4ef3-98c4-78432ad640b0",
   "metadata": {
    "ExecuteTime": {
     "start_time": "2024-03-21T10:28:34.456937Z",
     "end_time": "2024-03-21T10:28:34.466985Z"
    }
   },
   "source": [
    "Loading the model\n",
    "\n"
   ],
   "outputs": [],
   "execution_count": 5
  },
  {
   "cell_type": "code",
   "execution_count": 30,
   "id": "555842c5-3f82-4f63-93bb-696645d4b447",
   "metadata": {
    "ExecuteTime": {
     "start_time": "2024-03-21T11:15:32.380424Z",
     "end_time": "2024-03-21T11:15:32.397960Z"
    }
   },
   "outputs": [],
   "source": [
    "class StatementClassifier:\n",
    "    def __init__(self):\n",
    "        self.tokenizer = SpacyTokenizer(name='en_core_web_sm')\n",
    "\n",
    "    def __call__(self, sentences):\n",
    "        # ensure the input has a batch axis\n",
    "        if isinstance(sentences, str):\n",
    "            sentences = [sentences]\n",
    "\n",
    "        probs = classify_texts(sentences, model_path, return_proba=True)\n",
    "\n",
    "        return np.transpose([(probs[:, 0]), (1 - probs[:, 0])])\n",
    "            "
   ]
  },
  {
   "cell_type": "code",
   "execution_count": 31,
   "id": "443e8a99-6fa3-4a73-9311-2fbe0251c2b1",
   "metadata": {
    "ExecuteTime": {
     "start_time": "2024-03-21T11:15:33.323756Z",
     "end_time": "2024-03-21T11:15:33.780511Z"
    }
   },
   "outputs": [],
   "source": [
    "# define model runner. max_filter_size is a property of the model\n",
    "model_runner = StatementClassifier()"
   ]
  },
  {
   "cell_type": "markdown",
   "source": [
    "#### Test the model"
   ],
   "metadata": {
    "collapsed": false
   }
  },
  {
   "cell_type": "code",
   "execution_count": 32,
   "outputs": [
    {
     "name": "stderr",
     "output_type": "stream",
     "text": [
      "Some weights of the model checkpoint at law-ai/InLegalBERT were not used when initializing BertModel: ['cls.predictions.transform.LayerNorm.weight', 'cls.seq_relationship.weight', 'cls.predictions.transform.LayerNorm.bias', 'cls.predictions.bias', 'cls.predictions.decoder.bias', 'cls.predictions.transform.dense.bias', 'cls.predictions.decoder.weight', 'cls.seq_relationship.bias', 'cls.predictions.transform.dense.weight']\n",
      "- This IS expected if you are initializing BertModel from the checkpoint of a model trained on another task or with another architecture (e.g. initializing a BertForSequenceClassification model from a BertForPreTraining model).\n",
      "- This IS NOT expected if you are initializing BertModel from the checkpoint of a model that you expect to be exactly identical (initializing a BertForSequenceClassification model from a BertForSequenceClassification model).\n",
      "Creating features: 100%|██████████| 5/5 [00:00<00:00, 17.50it/s]\n"
     ]
    },
    {
     "data": {
      "text/plain": "['constitutive', 'constitutive', 'regulatory', 'regulatory', 'regulatory']"
     },
     "execution_count": 32,
     "metadata": {},
     "output_type": "execute_result"
    }
   ],
   "source": [
    "prediction = model_runner([constitutive_statement_0,constitutive_statement_1, regulatory_statement_0, regulatory_statement_1,regulatory_statement_2])\n",
    "[class_names[m] for m in np.argmax(prediction, axis=1)]"
   ],
   "metadata": {
    "collapsed": false,
    "ExecuteTime": {
     "start_time": "2024-03-21T11:15:33.811870Z",
     "end_time": "2024-03-21T11:15:35.319350Z"
    }
   }
  },
  {
   "cell_type": "markdown",
   "source": [
    "#### Set parameters for DIANNA"
   ],
   "metadata": {
    "collapsed": false
   }
  },
  {
   "cell_type": "code",
   "execution_count": 83,
   "outputs": [
    {
     "name": "stdout",
     "output_type": "stream",
     "text": [
      "label_of_interest is regulatory\n"
     ]
    }
   ],
   "source": [
    "label_of_interest = 1\n",
    "print('label_of_interest is', class_names[label_of_interest])\n",
    "statement = regulatory_statement_0\n",
    "num_samples = 1000\n",
    "num_features=100  # top n number of words to include in the attribution map\n",
    "\n",
    "def run_dianna(input_text):\n",
    "    return dianna.explain_text(model_runner, input_text, model_runner.tokenizer,\n",
    "                               'LIME', labels=[label_of_interest], num_samples=num_samples, num_features=num_features, )[0]"
   ],
   "metadata": {
    "collapsed": false,
    "ExecuteTime": {
     "start_time": "2024-03-21T12:10:53.347050Z",
     "end_time": "2024-03-21T12:10:53.354051Z"
    }
   }
  },
  {
   "cell_type": "markdown",
   "source": [
    "#### Are the results stable with current parameters?"
   ],
   "metadata": {
    "collapsed": false
   }
  },
  {
   "cell_type": "code",
   "execution_count": 77,
   "outputs": [
    {
     "data": {
      "text/plain": "          Where  observations       are  submitted         ,        or  \\\ncount  3.000000      3.000000  3.000000   3.000000  3.000000  3.000000   \nmean  -0.012983      0.047659  0.034367   0.044731  0.069365  0.050603   \nstd    0.016918      0.005259  0.012161   0.004476  0.023721  0.018101   \nmin   -0.032518      0.042749  0.021664   0.039570  0.042007  0.035753   \n25%   -0.017870      0.044884  0.028599   0.043320  0.061951  0.040522   \n50%   -0.003222      0.047019  0.035534   0.047069  0.081894  0.045291   \n75%   -0.003216      0.050114  0.040718   0.047312  0.083044  0.058029   \nmax   -0.003209      0.053210  0.045901   0.047554  0.084194  0.070766   \n\n          where  substantial       new  evidence  ...  decision       and  \\\ncount  3.000000     3.000000  3.000000  3.000000  ...  3.000000  3.000000   \nmean   0.026494     0.042150  0.069247  0.084791  ...  0.026165  0.075697   \nstd    0.005439     0.009085  0.019184  0.013398  ...  0.005085  0.028813   \nmin    0.020860     0.035570  0.049421  0.073819  ...  0.020408  0.043280   \n25%    0.023884     0.036968  0.060012  0.077325  ...  0.024226  0.064349   \n50%    0.026908     0.038365  0.070602  0.080831  ...  0.028043  0.085419   \n75%    0.029312     0.045440  0.079160  0.090277  ...  0.029044  0.091905   \nmax    0.031715     0.052515  0.087717  0.099722  ...  0.030045  0.098392   \n\n         inform       the    person        or    entity  concerned  \\\ncount  3.000000  3.000000  3.000000  3.000000  3.000000   3.000000   \nmean   0.100724  0.070454  0.042420  0.066230  0.060058   0.062489   \nstd    0.009349  0.023762  0.021036  0.031683  0.033782   0.032805   \nmin    0.089935  0.048124  0.018152  0.042800  0.021053   0.029143   \n25%    0.097871  0.057967  0.035900  0.048206  0.050098   0.046371   \n50%    0.105806  0.067810  0.053649  0.053613  0.079143   0.063599   \n75%    0.106119  0.081619  0.054554  0.077946  0.079561   0.079161   \nmax    0.106431  0.095427  0.055459  0.102278  0.079979   0.094724   \n\n       accordingly         .  \ncount     3.000000  3.000000  \nmean      0.065244  0.062057  \nstd       0.032690  0.022269  \nmin       0.028581  0.038161  \n25%       0.052190  0.051971  \n50%       0.075799  0.065782  \n75%       0.083576  0.074005  \nmax       0.091352  0.082229  \n\n[8 rows x 28 columns]",
      "text/html": "<div>\n<style scoped>\n    .dataframe tbody tr th:only-of-type {\n        vertical-align: middle;\n    }\n\n    .dataframe tbody tr th {\n        vertical-align: top;\n    }\n\n    .dataframe thead th {\n        text-align: right;\n    }\n</style>\n<table border=\"1\" class=\"dataframe\">\n  <thead>\n    <tr style=\"text-align: right;\">\n      <th></th>\n      <th>Where</th>\n      <th>observations</th>\n      <th>are</th>\n      <th>submitted</th>\n      <th>,</th>\n      <th>or</th>\n      <th>where</th>\n      <th>substantial</th>\n      <th>new</th>\n      <th>evidence</th>\n      <th>...</th>\n      <th>decision</th>\n      <th>and</th>\n      <th>inform</th>\n      <th>the</th>\n      <th>person</th>\n      <th>or</th>\n      <th>entity</th>\n      <th>concerned</th>\n      <th>accordingly</th>\n      <th>.</th>\n    </tr>\n  </thead>\n  <tbody>\n    <tr>\n      <th>count</th>\n      <td>3.000000</td>\n      <td>3.000000</td>\n      <td>3.000000</td>\n      <td>3.000000</td>\n      <td>3.000000</td>\n      <td>3.000000</td>\n      <td>3.000000</td>\n      <td>3.000000</td>\n      <td>3.000000</td>\n      <td>3.000000</td>\n      <td>...</td>\n      <td>3.000000</td>\n      <td>3.000000</td>\n      <td>3.000000</td>\n      <td>3.000000</td>\n      <td>3.000000</td>\n      <td>3.000000</td>\n      <td>3.000000</td>\n      <td>3.000000</td>\n      <td>3.000000</td>\n      <td>3.000000</td>\n    </tr>\n    <tr>\n      <th>mean</th>\n      <td>-0.012983</td>\n      <td>0.047659</td>\n      <td>0.034367</td>\n      <td>0.044731</td>\n      <td>0.069365</td>\n      <td>0.050603</td>\n      <td>0.026494</td>\n      <td>0.042150</td>\n      <td>0.069247</td>\n      <td>0.084791</td>\n      <td>...</td>\n      <td>0.026165</td>\n      <td>0.075697</td>\n      <td>0.100724</td>\n      <td>0.070454</td>\n      <td>0.042420</td>\n      <td>0.066230</td>\n      <td>0.060058</td>\n      <td>0.062489</td>\n      <td>0.065244</td>\n      <td>0.062057</td>\n    </tr>\n    <tr>\n      <th>std</th>\n      <td>0.016918</td>\n      <td>0.005259</td>\n      <td>0.012161</td>\n      <td>0.004476</td>\n      <td>0.023721</td>\n      <td>0.018101</td>\n      <td>0.005439</td>\n      <td>0.009085</td>\n      <td>0.019184</td>\n      <td>0.013398</td>\n      <td>...</td>\n      <td>0.005085</td>\n      <td>0.028813</td>\n      <td>0.009349</td>\n      <td>0.023762</td>\n      <td>0.021036</td>\n      <td>0.031683</td>\n      <td>0.033782</td>\n      <td>0.032805</td>\n      <td>0.032690</td>\n      <td>0.022269</td>\n    </tr>\n    <tr>\n      <th>min</th>\n      <td>-0.032518</td>\n      <td>0.042749</td>\n      <td>0.021664</td>\n      <td>0.039570</td>\n      <td>0.042007</td>\n      <td>0.035753</td>\n      <td>0.020860</td>\n      <td>0.035570</td>\n      <td>0.049421</td>\n      <td>0.073819</td>\n      <td>...</td>\n      <td>0.020408</td>\n      <td>0.043280</td>\n      <td>0.089935</td>\n      <td>0.048124</td>\n      <td>0.018152</td>\n      <td>0.042800</td>\n      <td>0.021053</td>\n      <td>0.029143</td>\n      <td>0.028581</td>\n      <td>0.038161</td>\n    </tr>\n    <tr>\n      <th>25%</th>\n      <td>-0.017870</td>\n      <td>0.044884</td>\n      <td>0.028599</td>\n      <td>0.043320</td>\n      <td>0.061951</td>\n      <td>0.040522</td>\n      <td>0.023884</td>\n      <td>0.036968</td>\n      <td>0.060012</td>\n      <td>0.077325</td>\n      <td>...</td>\n      <td>0.024226</td>\n      <td>0.064349</td>\n      <td>0.097871</td>\n      <td>0.057967</td>\n      <td>0.035900</td>\n      <td>0.048206</td>\n      <td>0.050098</td>\n      <td>0.046371</td>\n      <td>0.052190</td>\n      <td>0.051971</td>\n    </tr>\n    <tr>\n      <th>50%</th>\n      <td>-0.003222</td>\n      <td>0.047019</td>\n      <td>0.035534</td>\n      <td>0.047069</td>\n      <td>0.081894</td>\n      <td>0.045291</td>\n      <td>0.026908</td>\n      <td>0.038365</td>\n      <td>0.070602</td>\n      <td>0.080831</td>\n      <td>...</td>\n      <td>0.028043</td>\n      <td>0.085419</td>\n      <td>0.105806</td>\n      <td>0.067810</td>\n      <td>0.053649</td>\n      <td>0.053613</td>\n      <td>0.079143</td>\n      <td>0.063599</td>\n      <td>0.075799</td>\n      <td>0.065782</td>\n    </tr>\n    <tr>\n      <th>75%</th>\n      <td>-0.003216</td>\n      <td>0.050114</td>\n      <td>0.040718</td>\n      <td>0.047312</td>\n      <td>0.083044</td>\n      <td>0.058029</td>\n      <td>0.029312</td>\n      <td>0.045440</td>\n      <td>0.079160</td>\n      <td>0.090277</td>\n      <td>...</td>\n      <td>0.029044</td>\n      <td>0.091905</td>\n      <td>0.106119</td>\n      <td>0.081619</td>\n      <td>0.054554</td>\n      <td>0.077946</td>\n      <td>0.079561</td>\n      <td>0.079161</td>\n      <td>0.083576</td>\n      <td>0.074005</td>\n    </tr>\n    <tr>\n      <th>max</th>\n      <td>-0.003209</td>\n      <td>0.053210</td>\n      <td>0.045901</td>\n      <td>0.047554</td>\n      <td>0.084194</td>\n      <td>0.070766</td>\n      <td>0.031715</td>\n      <td>0.052515</td>\n      <td>0.087717</td>\n      <td>0.099722</td>\n      <td>...</td>\n      <td>0.030045</td>\n      <td>0.098392</td>\n      <td>0.106431</td>\n      <td>0.095427</td>\n      <td>0.055459</td>\n      <td>0.102278</td>\n      <td>0.079979</td>\n      <td>0.094724</td>\n      <td>0.091352</td>\n      <td>0.082229</td>\n    </tr>\n  </tbody>\n</table>\n<p>8 rows × 28 columns</p>\n</div>"
     },
     "execution_count": 77,
     "metadata": {},
     "output_type": "execute_result"
    }
   ],
   "source": [
    "explanation_relevances = [run_dianna(statement) for i in range(3)]\n",
    "sorted_relevances = [sorted(r, key=lambda t : t[1]) for r in explanation_relevances]\n",
    "\n",
    "pd.DataFrame([[r[2] for r in sr] for sr in sorted_relevances], columns=[r[0] for r in sorted_relevances[0]]).describe()"
   ],
   "metadata": {
    "collapsed": false,
    "ExecuteTime": {
     "start_time": "2024-03-21T11:57:43.921805Z",
     "end_time": "2024-03-21T11:57:43.971896Z"
    }
   }
  },
  {
   "cell_type": "markdown",
   "source": [
    "Seems quite stable with 1000 samples in LIME. We can now run DIANNA knowing results will contain mostly signal and not just noise."
   ],
   "metadata": {
    "collapsed": false
   }
  },
  {
   "cell_type": "code",
   "execution_count": 80,
   "outputs": [
    {
     "name": "stderr",
     "output_type": "stream",
     "text": [
      "Some weights of the model checkpoint at law-ai/InLegalBERT were not used when initializing BertModel: ['cls.predictions.transform.LayerNorm.weight', 'cls.seq_relationship.weight', 'cls.predictions.transform.LayerNorm.bias', 'cls.predictions.bias', 'cls.predictions.decoder.bias', 'cls.predictions.transform.dense.bias', 'cls.predictions.decoder.weight', 'cls.seq_relationship.bias', 'cls.predictions.transform.dense.weight']\n",
      "- This IS expected if you are initializing BertModel from the checkpoint of a model trained on another task or with another architecture (e.g. initializing a BertForSequenceClassification model from a BertForPreTraining model).\n",
      "- This IS NOT expected if you are initializing BertModel from the checkpoint of a model that you expect to be exactly identical (initializing a BertForSequenceClassification model from a BertForSequenceClassification model).\n",
      "Creating features: 100%|██████████| 1000/1000 [01:54<00:00,  8.74it/s]"
     ]
    },
    {
     "name": "stdout",
     "output_type": "stream",
     "text": [
      "attributions for class regulatory\n"
     ]
    },
    {
     "name": "stderr",
     "output_type": "stream",
     "text": [
      "\n"
     ]
    },
    {
     "data": {
      "text/plain": "               0   1         2\n0              ,  12  0.128824\n1         review  16  0.106041\n2          shall  15  0.095205\n3            and  19  0.090460\n4    accordingly  26  0.084933\n5      concerned  25  0.078202\n6       decision  18  0.073636\n7            new   8  0.072059\n8            the  21  0.070054\n9            are   2  0.069962\n10           its  17  0.069065\n11      evidence   9  0.065703\n12        inform  20  0.065190\n13             ,   4  0.064411\n14           the  13  0.055214\n15       Council  14  0.051427\n16            or  23  0.047009\n17            is  10  0.042921\n18   substantial   7  0.039014\n19     submitted   3  0.037420\n20             .  27  0.032304\n21     presented  11  0.030172\n22        entity  24  0.028769\n23            or   5  0.019367\n24  observations   1  0.014276\n25         Where   0 -0.013993\n26         where   6  0.011709\n27        person  22  0.008663",
      "text/html": "<div>\n<style scoped>\n    .dataframe tbody tr th:only-of-type {\n        vertical-align: middle;\n    }\n\n    .dataframe tbody tr th {\n        vertical-align: top;\n    }\n\n    .dataframe thead th {\n        text-align: right;\n    }\n</style>\n<table border=\"1\" class=\"dataframe\">\n  <thead>\n    <tr style=\"text-align: right;\">\n      <th></th>\n      <th>0</th>\n      <th>1</th>\n      <th>2</th>\n    </tr>\n  </thead>\n  <tbody>\n    <tr>\n      <th>0</th>\n      <td>,</td>\n      <td>12</td>\n      <td>0.128824</td>\n    </tr>\n    <tr>\n      <th>1</th>\n      <td>review</td>\n      <td>16</td>\n      <td>0.106041</td>\n    </tr>\n    <tr>\n      <th>2</th>\n      <td>shall</td>\n      <td>15</td>\n      <td>0.095205</td>\n    </tr>\n    <tr>\n      <th>3</th>\n      <td>and</td>\n      <td>19</td>\n      <td>0.090460</td>\n    </tr>\n    <tr>\n      <th>4</th>\n      <td>accordingly</td>\n      <td>26</td>\n      <td>0.084933</td>\n    </tr>\n    <tr>\n      <th>5</th>\n      <td>concerned</td>\n      <td>25</td>\n      <td>0.078202</td>\n    </tr>\n    <tr>\n      <th>6</th>\n      <td>decision</td>\n      <td>18</td>\n      <td>0.073636</td>\n    </tr>\n    <tr>\n      <th>7</th>\n      <td>new</td>\n      <td>8</td>\n      <td>0.072059</td>\n    </tr>\n    <tr>\n      <th>8</th>\n      <td>the</td>\n      <td>21</td>\n      <td>0.070054</td>\n    </tr>\n    <tr>\n      <th>9</th>\n      <td>are</td>\n      <td>2</td>\n      <td>0.069962</td>\n    </tr>\n    <tr>\n      <th>10</th>\n      <td>its</td>\n      <td>17</td>\n      <td>0.069065</td>\n    </tr>\n    <tr>\n      <th>11</th>\n      <td>evidence</td>\n      <td>9</td>\n      <td>0.065703</td>\n    </tr>\n    <tr>\n      <th>12</th>\n      <td>inform</td>\n      <td>20</td>\n      <td>0.065190</td>\n    </tr>\n    <tr>\n      <th>13</th>\n      <td>,</td>\n      <td>4</td>\n      <td>0.064411</td>\n    </tr>\n    <tr>\n      <th>14</th>\n      <td>the</td>\n      <td>13</td>\n      <td>0.055214</td>\n    </tr>\n    <tr>\n      <th>15</th>\n      <td>Council</td>\n      <td>14</td>\n      <td>0.051427</td>\n    </tr>\n    <tr>\n      <th>16</th>\n      <td>or</td>\n      <td>23</td>\n      <td>0.047009</td>\n    </tr>\n    <tr>\n      <th>17</th>\n      <td>is</td>\n      <td>10</td>\n      <td>0.042921</td>\n    </tr>\n    <tr>\n      <th>18</th>\n      <td>substantial</td>\n      <td>7</td>\n      <td>0.039014</td>\n    </tr>\n    <tr>\n      <th>19</th>\n      <td>submitted</td>\n      <td>3</td>\n      <td>0.037420</td>\n    </tr>\n    <tr>\n      <th>20</th>\n      <td>.</td>\n      <td>27</td>\n      <td>0.032304</td>\n    </tr>\n    <tr>\n      <th>21</th>\n      <td>presented</td>\n      <td>11</td>\n      <td>0.030172</td>\n    </tr>\n    <tr>\n      <th>22</th>\n      <td>entity</td>\n      <td>24</td>\n      <td>0.028769</td>\n    </tr>\n    <tr>\n      <th>23</th>\n      <td>or</td>\n      <td>5</td>\n      <td>0.019367</td>\n    </tr>\n    <tr>\n      <th>24</th>\n      <td>observations</td>\n      <td>1</td>\n      <td>0.014276</td>\n    </tr>\n    <tr>\n      <th>25</th>\n      <td>Where</td>\n      <td>0</td>\n      <td>-0.013993</td>\n    </tr>\n    <tr>\n      <th>26</th>\n      <td>where</td>\n      <td>6</td>\n      <td>0.011709</td>\n    </tr>\n    <tr>\n      <th>27</th>\n      <td>person</td>\n      <td>22</td>\n      <td>0.008663</td>\n    </tr>\n  </tbody>\n</table>\n</div>"
     },
     "execution_count": 80,
     "metadata": {},
     "output_type": "execute_result"
    }
   ],
   "source": [
    "explanation_relevance = run_dianna(statement)\n",
    "print('attributions for class', class_names[label_of_interest])\n",
    "pd.DataFrame(explanation_relevance)"
   ],
   "metadata": {
    "collapsed": false,
    "ExecuteTime": {
     "start_time": "2024-03-21T12:04:15.320612Z",
     "end_time": "2024-03-21T12:06:11.072481Z"
    }
   }
  },
  {
   "cell_type": "markdown",
   "id": "7e177746-3654-4518-9c1c-b7047f922273",
   "metadata": {
    "ExecuteTime": {
     "start_time": "2024-03-21T10:38:41.425881Z",
     "end_time": "2024-03-21T10:38:43.263330Z"
    }
   },
   "source": [
    "#### Visualize the result\n",
    "DIANNA includes a visualization package, capable of highlighting the relevance of each word in the text for a chosen class. The visualization is in HTML format.\n",
    "Words in favour of the selected class are highlighted in red, while words against the selected class - in blue."
   ],
   "outputs": [
    {
     "name": "stderr",
     "output_type": "stream",
     "text": [
      "Some weights of the model checkpoint at law-ai/InLegalBERT were not used when initializing BertModel: ['cls.predictions.bias', 'cls.predictions.transform.dense.bias', 'cls.seq_relationship.weight', 'cls.predictions.transform.LayerNorm.weight', 'cls.predictions.decoder.bias', 'cls.predictions.transform.dense.weight', 'cls.seq_relationship.bias', 'cls.predictions.transform.LayerNorm.bias', 'cls.predictions.decoder.weight']\n",
      "- This IS expected if you are initializing BertModel from the checkpoint of a model trained on another task or with another architecture (e.g. initializing a BertForSequenceClassification model from a BertForPreTraining model).\n",
      "- This IS NOT expected if you are initializing BertModel from the checkpoint of a model that you expect to be exactly identical (initializing a BertForSequenceClassification model from a BertForSequenceClassification model).\n",
      "Creating features: 100%|██████████| 4/4 [00:00<00:00, 14.05it/s]"
     ]
    },
    {
     "name": "stdout",
     "output_type": "stream",
     "text": [
      "(4, 2)\n"
     ]
    },
    {
     "name": "stderr",
     "output_type": "stream",
     "text": [
      "\n"
     ]
    },
    {
     "data": {
      "text/plain": "['constitutive', 'constitutive', 'regulatory', 'regulatory']"
     },
     "execution_count": 29,
     "metadata": {},
     "output_type": "execute_result"
    }
   ],
   "execution_count": 29
  },
  {
   "cell_type": "code",
   "execution_count": 81,
   "id": "0136005d-a22f-43a0-80da-4ec1f283f870",
   "metadata": {
    "ExecuteTime": {
     "start_time": "2024-03-21T12:06:24.987550Z",
     "end_time": "2024-03-21T12:06:25.001015Z"
    }
   },
   "outputs": [
    {
     "data": {
      "text/plain": "<IPython.core.display.HTML object>",
      "text/html": "<mark style=\"background-color: hsl(240, 100%, 94%, 0.8); line-height:1.75\">Where</mark> <mark style=\"background-color: hsl(0, 100%, 94%, 0.8); line-height:1.75\">observations</mark> <mark style=\"background-color: hsl(0, 100%, 68%, 0.8); line-height:1.75\">are</mark> <mark style=\"background-color: hsl(0, 100%, 83%, 0.8); line-height:1.75\">submitted</mark> <mark style=\"background-color: hsl(0, 100%, 70%, 0.8); line-height:1.75\">,</mark> <mark style=\"background-color: hsl(0, 100%, 91%, 0.8); line-height:1.75\">or</mark> <mark style=\"background-color: hsl(0, 100%, 95%, 0.8); line-height:1.75\">where</mark> <mark style=\"background-color: hsl(0, 100%, 82%, 0.8); line-height:1.75\">substantial</mark> <mark style=\"background-color: hsl(0, 100%, 67%, 0.8); line-height:1.75\">new</mark> <mark style=\"background-color: hsl(0, 100%, 70%, 0.8); line-height:1.75\">evidence</mark> <mark style=\"background-color: hsl(0, 100%, 80%, 0.8); line-height:1.75\">is</mark> <mark style=\"background-color: hsl(0, 100%, 86%, 0.8); line-height:1.75\">presented</mark> <mark style=\"background-color: hsl(0, 100%, 70%, 0.8); line-height:1.75\">,</mark> <mark style=\"background-color: hsl(0, 100%, 74%, 0.8); line-height:1.75\">the</mark> <mark style=\"background-color: hsl(0, 100%, 76%, 0.8); line-height:1.75\">Council</mark> <mark style=\"background-color: hsl(0, 100%, 56%, 0.8); line-height:1.75\">shall</mark> <mark style=\"background-color: hsl(0, 100%, 50%, 0.8); line-height:1.75\">review</mark> <mark style=\"background-color: hsl(0, 100%, 68%, 0.8); line-height:1.75\">its</mark> <mark style=\"background-color: hsl(0, 100%, 66%, 0.8); line-height:1.75\">decision</mark> <mark style=\"background-color: hsl(0, 100%, 58%, 0.8); line-height:1.75\">and</mark> <mark style=\"background-color: hsl(0, 100%, 70%, 0.8); line-height:1.75\">inform</mark> <mark style=\"background-color: hsl(0, 100%, 74%, 0.8); line-height:1.75\">the</mark> <mark style=\"background-color: hsl(0, 100%, 96%, 0.8); line-height:1.75\">person</mark> <mark style=\"background-color: hsl(0, 100%, 91%, 0.8); line-height:1.75\">or</mark> <mark style=\"background-color: hsl(0, 100%, 87%, 0.8); line-height:1.75\">entity</mark> <mark style=\"background-color: hsl(0, 100%, 64%, 0.8); line-height:1.75\">concerned</mark> <mark style=\"background-color: hsl(0, 100%, 60%, 0.8); line-height:1.75\">accordingly</mark> <mark style=\"background-color: hsl(0, 100%, 85%, 0.8); line-height:1.75\">.</mark>"
     },
     "metadata": {},
     "output_type": "display_data"
    }
   ],
   "source": [
    "visualization.highlight_text(explanation_relevance, model_runner.tokenizer.tokenize(statement))"
   ]
  },
  {
   "cell_type": "code",
   "execution_count": null,
   "outputs": [
    {
     "name": "stderr",
     "output_type": "stream",
     "text": [
      "Some weights of the model checkpoint at law-ai/InLegalBERT were not used when initializing BertModel: ['cls.predictions.transform.LayerNorm.weight', 'cls.seq_relationship.weight', 'cls.predictions.transform.LayerNorm.bias', 'cls.predictions.bias', 'cls.predictions.decoder.bias', 'cls.predictions.transform.dense.bias', 'cls.predictions.decoder.weight', 'cls.seq_relationship.bias', 'cls.predictions.transform.dense.weight']\n",
      "- This IS expected if you are initializing BertModel from the checkpoint of a model trained on another task or with another architecture (e.g. initializing a BertForSequenceClassification model from a BertForPreTraining model).\n",
      "- This IS NOT expected if you are initializing BertModel from the checkpoint of a model that you expect to be exactly identical (initializing a BertForSequenceClassification model from a BertForSequenceClassification model).\n",
      "Creating features: 100%|██████████| 1000/1000 [01:22<00:00, 12.15it/s]\n",
      "Some weights of the model checkpoint at law-ai/InLegalBERT were not used when initializing BertModel: ['cls.predictions.transform.LayerNorm.weight', 'cls.seq_relationship.weight', 'cls.predictions.transform.LayerNorm.bias', 'cls.predictions.bias', 'cls.predictions.decoder.bias', 'cls.predictions.transform.dense.bias', 'cls.predictions.decoder.weight', 'cls.seq_relationship.bias', 'cls.predictions.transform.dense.weight']\n",
      "- This IS expected if you are initializing BertModel from the checkpoint of a model trained on another task or with another architecture (e.g. initializing a BertForSequenceClassification model from a BertForPreTraining model).\n",
      "- This IS NOT expected if you are initializing BertModel from the checkpoint of a model that you expect to be exactly identical (initializing a BertForSequenceClassification model from a BertForSequenceClassification model).\n",
      "Creating features:  11%|█         | 106/1000 [00:10<01:30,  9.87it/s]"
     ]
    }
   ],
   "source": [
    "explanation_relevance_list = [run_dianna(s) for s in [constitutive_statement_0,constitutive_statement_1, regulatory_statement_0, regulatory_statement_1,regulatory_statement_2]]"
   ],
   "metadata": {
    "collapsed": false,
    "pycharm": {
     "is_executing": true
    }
   }
  }
 ],
 "metadata": {
  "kernelspec": {
   "display_name": "Python 3 (ipykernel)",
   "language": "python",
   "name": "python3"
  },
  "language_info": {
   "codemirror_mode": {
    "name": "ipython",
    "version": 3
   },
   "file_extension": ".py",
   "mimetype": "text/x-python",
   "name": "python",
   "nbconvert_exporter": "python",
   "pygments_lexer": "ipython3",
   "version": "3.10.13"
  }
 },
 "nbformat": 4,
 "nbformat_minor": 5
}
